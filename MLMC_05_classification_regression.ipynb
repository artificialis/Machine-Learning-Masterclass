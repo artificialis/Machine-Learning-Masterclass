{
 "cells": [
  {
   "cell_type": "markdown",
   "id": "cc53a65a",
   "metadata": {},
   "source": [
    "# Classification et Régression avec Scikit-Learn\n",
    "Ce notebook illustre la classification avec un arbre de décision et la régression linéaire avec Scikit-Learn."
   ]
  },
  {
   "cell_type": "markdown",
   "id": "b5078348",
   "metadata": {},
   "source": [
    "# Installation des librairies\n",
    "\n",
    "Avant de commencer, nous devons nous assurer que toutes les bibliothèques nécessaires sont installées. Ces bibliothèques nous permettront de manipuler les données (numpy), de visualiser (matplotlib, seaborn) et d'entraîner des modèles d'apprentissage automatique (scikit-learn)."
   ]
  },
  {
   "cell_type": "code",
   "id": "6b370221",
   "metadata": {
    "ExecuteTime": {
     "end_time": "2025-02-19T16:56:47.833980Z",
     "start_time": "2025-02-19T16:56:25.903082Z"
    }
   },
   "source": [
    "!pip install numpy\n",
    "!pip install matplotlib\n",
    "!pip install seaborn\n",
    "!pip install scikit-learn"
   ],
   "outputs": [
    {
     "name": "stdout",
     "output_type": "stream",
     "text": [
      "Collecting numpy\r\n",
      "  Obtaining dependency information for numpy from https://files.pythonhosted.org/packages/39/04/78d2e7402fb479d893953fb78fa7045f7deb635ec095b6b4f0260223091a/numpy-2.2.3-cp312-cp312-manylinux_2_17_x86_64.manylinux2014_x86_64.whl.metadata\r\n",
      "  Downloading numpy-2.2.3-cp312-cp312-manylinux_2_17_x86_64.manylinux2014_x86_64.whl.metadata (62 kB)\r\n",
      "\u001B[2K     \u001B[90m━━━━━━━━━━━━━━━━━━━━━━━━━━━━━━━━━━━━━━━━\u001B[0m \u001B[32m62.0/62.0 kB\u001B[0m \u001B[31m2.7 MB/s\u001B[0m eta \u001B[36m0:00:00\u001B[0m\r\n",
      "\u001B[?25hDownloading numpy-2.2.3-cp312-cp312-manylinux_2_17_x86_64.manylinux2014_x86_64.whl (16.1 MB)\r\n",
      "\u001B[2K   \u001B[90m━━━━━━━━━━━━━━━━━━━━━━━━━━━━━━━━━━━━━━━━\u001B[0m \u001B[32m16.1/16.1 MB\u001B[0m \u001B[31m67.9 MB/s\u001B[0m eta \u001B[36m0:00:00\u001B[0m00:01\u001B[0m00:01\u001B[0m\r\n",
      "\u001B[?25hInstalling collected packages: numpy\r\n",
      "Successfully installed numpy-2.2.3\r\n",
      "\r\n",
      "\u001B[1m[\u001B[0m\u001B[34;49mnotice\u001B[0m\u001B[1;39;49m]\u001B[0m\u001B[39;49m A new release of pip is available: \u001B[0m\u001B[31;49m23.2.1\u001B[0m\u001B[39;49m -> \u001B[0m\u001B[32;49m25.0.1\u001B[0m\r\n",
      "\u001B[1m[\u001B[0m\u001B[34;49mnotice\u001B[0m\u001B[1;39;49m]\u001B[0m\u001B[39;49m To update, run: \u001B[0m\u001B[32;49mpip install --upgrade pip\u001B[0m\r\n",
      "Collecting matplotlib\r\n",
      "  Obtaining dependency information for matplotlib from https://files.pythonhosted.org/packages/a7/b2/d872fc3d753516870d520595ddd8ce4dd44fa797a240999f125f58521ad7/matplotlib-3.10.0-cp312-cp312-manylinux_2_17_x86_64.manylinux2014_x86_64.whl.metadata\r\n",
      "  Downloading matplotlib-3.10.0-cp312-cp312-manylinux_2_17_x86_64.manylinux2014_x86_64.whl.metadata (11 kB)\r\n",
      "Collecting contourpy>=1.0.1 (from matplotlib)\r\n",
      "  Obtaining dependency information for contourpy>=1.0.1 from https://files.pythonhosted.org/packages/ba/99/6794142b90b853a9155316c8f470d2e4821fe6f086b03e372aca848227dd/contourpy-1.3.1-cp312-cp312-manylinux_2_17_x86_64.manylinux2014_x86_64.whl.metadata\r\n",
      "  Using cached contourpy-1.3.1-cp312-cp312-manylinux_2_17_x86_64.manylinux2014_x86_64.whl.metadata (5.4 kB)\r\n",
      "Collecting cycler>=0.10 (from matplotlib)\r\n",
      "  Obtaining dependency information for cycler>=0.10 from https://files.pythonhosted.org/packages/e7/05/c19819d5e3d95294a6f5947fb9b9629efb316b96de511b418c53d245aae6/cycler-0.12.1-py3-none-any.whl.metadata\r\n",
      "  Using cached cycler-0.12.1-py3-none-any.whl.metadata (3.8 kB)\r\n",
      "Collecting fonttools>=4.22.0 (from matplotlib)\r\n",
      "  Obtaining dependency information for fonttools>=4.22.0 from https://files.pythonhosted.org/packages/95/70/2a781bedc1c45a0c61d29c56425609b22ed7f971da5d7e5df2679488741b/fonttools-4.56.0-cp312-cp312-manylinux_2_5_x86_64.manylinux1_x86_64.manylinux_2_17_x86_64.manylinux2014_x86_64.whl.metadata\r\n",
      "  Using cached fonttools-4.56.0-cp312-cp312-manylinux_2_5_x86_64.manylinux1_x86_64.manylinux_2_17_x86_64.manylinux2014_x86_64.whl.metadata (101 kB)\r\n",
      "Collecting kiwisolver>=1.3.1 (from matplotlib)\r\n",
      "  Obtaining dependency information for kiwisolver>=1.3.1 from https://files.pythonhosted.org/packages/bc/b3/9458adb9472e61a998c8c4d95cfdfec91c73c53a375b30b1428310f923e4/kiwisolver-1.4.8-cp312-cp312-manylinux_2_17_x86_64.manylinux2014_x86_64.whl.metadata\r\n",
      "  Using cached kiwisolver-1.4.8-cp312-cp312-manylinux_2_17_x86_64.manylinux2014_x86_64.whl.metadata (6.2 kB)\r\n",
      "Requirement already satisfied: numpy>=1.23 in ./.venv/lib/python3.12/site-packages (from matplotlib) (2.2.3)\r\n",
      "Requirement already satisfied: packaging>=20.0 in ./.venv/lib/python3.12/site-packages (from matplotlib) (24.2)\r\n",
      "Collecting pillow>=8 (from matplotlib)\r\n",
      "  Obtaining dependency information for pillow>=8 from https://files.pythonhosted.org/packages/38/0d/84200ed6a871ce386ddc82904bfadc0c6b28b0c0ec78176871a4679e40b3/pillow-11.1.0-cp312-cp312-manylinux_2_28_x86_64.whl.metadata\r\n",
      "  Using cached pillow-11.1.0-cp312-cp312-manylinux_2_28_x86_64.whl.metadata (9.1 kB)\r\n",
      "Collecting pyparsing>=2.3.1 (from matplotlib)\r\n",
      "  Obtaining dependency information for pyparsing>=2.3.1 from https://files.pythonhosted.org/packages/1c/a7/c8a2d361bf89c0d9577c934ebb7421b25dc84bf3a8e3ac0a40aed9acc547/pyparsing-3.2.1-py3-none-any.whl.metadata\r\n",
      "  Using cached pyparsing-3.2.1-py3-none-any.whl.metadata (5.0 kB)\r\n",
      "Requirement already satisfied: python-dateutil>=2.7 in ./.venv/lib/python3.12/site-packages (from matplotlib) (2.9.0.post0)\r\n",
      "Requirement already satisfied: six>=1.5 in ./.venv/lib/python3.12/site-packages (from python-dateutil>=2.7->matplotlib) (1.17.0)\r\n",
      "Downloading matplotlib-3.10.0-cp312-cp312-manylinux_2_17_x86_64.manylinux2014_x86_64.whl (8.6 MB)\r\n",
      "\u001B[2K   \u001B[90m━━━━━━━━━━━━━━━━━━━━━━━━━━━━━━━━━━━━━━━━\u001B[0m \u001B[32m8.6/8.6 MB\u001B[0m \u001B[31m49.5 MB/s\u001B[0m eta \u001B[36m0:00:00\u001B[0m00:01\u001B[0m00:01\u001B[0m\r\n",
      "\u001B[?25hUsing cached contourpy-1.3.1-cp312-cp312-manylinux_2_17_x86_64.manylinux2014_x86_64.whl (323 kB)\r\n",
      "Using cached cycler-0.12.1-py3-none-any.whl (8.3 kB)\r\n",
      "Using cached fonttools-4.56.0-cp312-cp312-manylinux_2_5_x86_64.manylinux1_x86_64.manylinux_2_17_x86_64.manylinux2014_x86_64.whl (4.9 MB)\r\n",
      "Using cached kiwisolver-1.4.8-cp312-cp312-manylinux_2_17_x86_64.manylinux2014_x86_64.whl (1.5 MB)\r\n",
      "Using cached pillow-11.1.0-cp312-cp312-manylinux_2_28_x86_64.whl (4.5 MB)\r\n",
      "Using cached pyparsing-3.2.1-py3-none-any.whl (107 kB)\r\n",
      "Installing collected packages: pyparsing, pillow, kiwisolver, fonttools, cycler, contourpy, matplotlib\r\n",
      "Successfully installed contourpy-1.3.1 cycler-0.12.1 fonttools-4.56.0 kiwisolver-1.4.8 matplotlib-3.10.0 pillow-11.1.0 pyparsing-3.2.1\r\n",
      "\r\n",
      "\u001B[1m[\u001B[0m\u001B[34;49mnotice\u001B[0m\u001B[1;39;49m]\u001B[0m\u001B[39;49m A new release of pip is available: \u001B[0m\u001B[31;49m23.2.1\u001B[0m\u001B[39;49m -> \u001B[0m\u001B[32;49m25.0.1\u001B[0m\r\n",
      "\u001B[1m[\u001B[0m\u001B[34;49mnotice\u001B[0m\u001B[1;39;49m]\u001B[0m\u001B[39;49m To update, run: \u001B[0m\u001B[32;49mpip install --upgrade pip\u001B[0m\r\n",
      "Collecting seaborn\r\n",
      "  Obtaining dependency information for seaborn from https://files.pythonhosted.org/packages/83/11/00d3c3dfc25ad54e731d91449895a79e4bf2384dc3ac01809010ba88f6d5/seaborn-0.13.2-py3-none-any.whl.metadata\r\n",
      "  Using cached seaborn-0.13.2-py3-none-any.whl.metadata (5.4 kB)\r\n",
      "Requirement already satisfied: numpy!=1.24.0,>=1.20 in ./.venv/lib/python3.12/site-packages (from seaborn) (2.2.3)\r\n",
      "Collecting pandas>=1.2 (from seaborn)\r\n",
      "  Obtaining dependency information for pandas>=1.2 from https://files.pythonhosted.org/packages/38/f8/d8fddee9ed0d0c0f4a2132c1dfcf0e3e53265055da8df952a53e7eaf178c/pandas-2.2.3-cp312-cp312-manylinux_2_17_x86_64.manylinux2014_x86_64.whl.metadata\r\n",
      "  Using cached pandas-2.2.3-cp312-cp312-manylinux_2_17_x86_64.manylinux2014_x86_64.whl.metadata (89 kB)\r\n",
      "Requirement already satisfied: matplotlib!=3.6.1,>=3.4 in ./.venv/lib/python3.12/site-packages (from seaborn) (3.10.0)\r\n",
      "Requirement already satisfied: contourpy>=1.0.1 in ./.venv/lib/python3.12/site-packages (from matplotlib!=3.6.1,>=3.4->seaborn) (1.3.1)\r\n",
      "Requirement already satisfied: cycler>=0.10 in ./.venv/lib/python3.12/site-packages (from matplotlib!=3.6.1,>=3.4->seaborn) (0.12.1)\r\n",
      "Requirement already satisfied: fonttools>=4.22.0 in ./.venv/lib/python3.12/site-packages (from matplotlib!=3.6.1,>=3.4->seaborn) (4.56.0)\r\n",
      "Requirement already satisfied: kiwisolver>=1.3.1 in ./.venv/lib/python3.12/site-packages (from matplotlib!=3.6.1,>=3.4->seaborn) (1.4.8)\r\n",
      "Requirement already satisfied: packaging>=20.0 in ./.venv/lib/python3.12/site-packages (from matplotlib!=3.6.1,>=3.4->seaborn) (24.2)\r\n",
      "Requirement already satisfied: pillow>=8 in ./.venv/lib/python3.12/site-packages (from matplotlib!=3.6.1,>=3.4->seaborn) (11.1.0)\r\n",
      "Requirement already satisfied: pyparsing>=2.3.1 in ./.venv/lib/python3.12/site-packages (from matplotlib!=3.6.1,>=3.4->seaborn) (3.2.1)\r\n",
      "Requirement already satisfied: python-dateutil>=2.7 in ./.venv/lib/python3.12/site-packages (from matplotlib!=3.6.1,>=3.4->seaborn) (2.9.0.post0)\r\n",
      "Collecting pytz>=2020.1 (from pandas>=1.2->seaborn)\r\n",
      "  Obtaining dependency information for pytz>=2020.1 from https://files.pythonhosted.org/packages/eb/38/ac33370d784287baa1c3d538978b5e2ea064d4c1b93ffbd12826c190dd10/pytz-2025.1-py2.py3-none-any.whl.metadata\r\n",
      "  Using cached pytz-2025.1-py2.py3-none-any.whl.metadata (22 kB)\r\n",
      "Collecting tzdata>=2022.7 (from pandas>=1.2->seaborn)\r\n",
      "  Obtaining dependency information for tzdata>=2022.7 from https://files.pythonhosted.org/packages/0f/dd/84f10e23edd882c6f968c21c2434fe67bd4a528967067515feca9e611e5e/tzdata-2025.1-py2.py3-none-any.whl.metadata\r\n",
      "  Using cached tzdata-2025.1-py2.py3-none-any.whl.metadata (1.4 kB)\r\n",
      "Requirement already satisfied: six>=1.5 in ./.venv/lib/python3.12/site-packages (from python-dateutil>=2.7->matplotlib!=3.6.1,>=3.4->seaborn) (1.17.0)\r\n",
      "Using cached seaborn-0.13.2-py3-none-any.whl (294 kB)\r\n",
      "Downloading pandas-2.2.3-cp312-cp312-manylinux_2_17_x86_64.manylinux2014_x86_64.whl (12.7 MB)\r\n",
      "\u001B[2K   \u001B[90m━━━━━━━━━━━━━━━━━━━━━━━━━━━━━━━━━━━━━━━━\u001B[0m \u001B[32m12.7/12.7 MB\u001B[0m \u001B[31m78.4 MB/s\u001B[0m eta \u001B[36m0:00:00\u001B[0m00:01\u001B[0m00:01\u001B[0m\r\n",
      "\u001B[?25hUsing cached pytz-2025.1-py2.py3-none-any.whl (507 kB)\r\n",
      "Using cached tzdata-2025.1-py2.py3-none-any.whl (346 kB)\r\n",
      "Installing collected packages: pytz, tzdata, pandas, seaborn\r\n",
      "Successfully installed pandas-2.2.3 pytz-2025.1 seaborn-0.13.2 tzdata-2025.1\r\n",
      "\r\n",
      "\u001B[1m[\u001B[0m\u001B[34;49mnotice\u001B[0m\u001B[1;39;49m]\u001B[0m\u001B[39;49m A new release of pip is available: \u001B[0m\u001B[31;49m23.2.1\u001B[0m\u001B[39;49m -> \u001B[0m\u001B[32;49m25.0.1\u001B[0m\r\n",
      "\u001B[1m[\u001B[0m\u001B[34;49mnotice\u001B[0m\u001B[1;39;49m]\u001B[0m\u001B[39;49m To update, run: \u001B[0m\u001B[32;49mpip install --upgrade pip\u001B[0m\r\n",
      "Collecting scikit-learn\r\n",
      "  Obtaining dependency information for scikit-learn from https://files.pythonhosted.org/packages/29/7a/8bce8968883e9465de20be15542f4c7e221952441727c4dad24d534c6d99/scikit_learn-1.6.1-cp312-cp312-manylinux_2_17_x86_64.manylinux2014_x86_64.whl.metadata\r\n",
      "  Downloading scikit_learn-1.6.1-cp312-cp312-manylinux_2_17_x86_64.manylinux2014_x86_64.whl.metadata (18 kB)\r\n",
      "Requirement already satisfied: numpy>=1.19.5 in ./.venv/lib/python3.12/site-packages (from scikit-learn) (2.2.3)\r\n",
      "Collecting scipy>=1.6.0 (from scikit-learn)\r\n",
      "  Obtaining dependency information for scipy>=1.6.0 from https://files.pythonhosted.org/packages/c0/53/eaada1a414c026673eb983f8b4a55fe5eb172725d33d62c1b21f63ff6ca4/scipy-1.15.2-cp312-cp312-manylinux_2_17_x86_64.manylinux2014_x86_64.whl.metadata\r\n",
      "  Downloading scipy-1.15.2-cp312-cp312-manylinux_2_17_x86_64.manylinux2014_x86_64.whl.metadata (61 kB)\r\n",
      "\u001B[2K     \u001B[90m━━━━━━━━━━━━━━━━━━━━━━━━━━━━━━━━━━━━━━━━\u001B[0m \u001B[32m62.0/62.0 kB\u001B[0m \u001B[31m2.5 MB/s\u001B[0m eta \u001B[36m0:00:00\u001B[0m\r\n",
      "\u001B[?25hCollecting joblib>=1.2.0 (from scikit-learn)\r\n",
      "  Obtaining dependency information for joblib>=1.2.0 from https://files.pythonhosted.org/packages/91/29/df4b9b42f2be0b623cbd5e2140cafcaa2bef0759a00b7b70104dcfe2fb51/joblib-1.4.2-py3-none-any.whl.metadata\r\n",
      "  Using cached joblib-1.4.2-py3-none-any.whl.metadata (5.4 kB)\r\n",
      "Collecting threadpoolctl>=3.1.0 (from scikit-learn)\r\n",
      "  Obtaining dependency information for threadpoolctl>=3.1.0 from https://files.pythonhosted.org/packages/4b/2c/ffbf7a134b9ab11a67b0cf0726453cedd9c5043a4fe7a35d1cefa9a1bcfb/threadpoolctl-3.5.0-py3-none-any.whl.metadata\r\n",
      "  Using cached threadpoolctl-3.5.0-py3-none-any.whl.metadata (13 kB)\r\n",
      "Downloading scikit_learn-1.6.1-cp312-cp312-manylinux_2_17_x86_64.manylinux2014_x86_64.whl (13.1 MB)\r\n",
      "\u001B[2K   \u001B[90m━━━━━━━━━━━━━━━━━━━━━━━━━━━━━━━━━━━━━━━━\u001B[0m \u001B[32m13.1/13.1 MB\u001B[0m \u001B[31m66.3 MB/s\u001B[0m eta \u001B[36m0:00:00\u001B[0m00:01\u001B[0m00:01\u001B[0m\r\n",
      "\u001B[?25hUsing cached joblib-1.4.2-py3-none-any.whl (301 kB)\r\n",
      "Downloading scipy-1.15.2-cp312-cp312-manylinux_2_17_x86_64.manylinux2014_x86_64.whl (37.3 MB)\r\n",
      "\u001B[2K   \u001B[90m━━━━━━━━━━━━━━━━━━━━━━━━━━━━━━━━━━━━━━━━\u001B[0m \u001B[32m37.3/37.3 MB\u001B[0m \u001B[31m61.0 MB/s\u001B[0m eta \u001B[36m0:00:00\u001B[0m00:01\u001B[0m00:01\u001B[0m\r\n",
      "\u001B[?25hUsing cached threadpoolctl-3.5.0-py3-none-any.whl (18 kB)\r\n",
      "Installing collected packages: threadpoolctl, scipy, joblib, scikit-learn\r\n",
      "Successfully installed joblib-1.4.2 scikit-learn-1.6.1 scipy-1.15.2 threadpoolctl-3.5.0\r\n",
      "\r\n",
      "\u001B[1m[\u001B[0m\u001B[34;49mnotice\u001B[0m\u001B[1;39;49m]\u001B[0m\u001B[39;49m A new release of pip is available: \u001B[0m\u001B[31;49m23.2.1\u001B[0m\u001B[39;49m -> \u001B[0m\u001B[32;49m25.0.1\u001B[0m\r\n",
      "\u001B[1m[\u001B[0m\u001B[34;49mnotice\u001B[0m\u001B[1;39;49m]\u001B[0m\u001B[39;49m To update, run: \u001B[0m\u001B[32;49mpip install --upgrade pip\u001B[0m\r\n"
     ]
    }
   ],
   "execution_count": 1
  },
  {
   "cell_type": "code",
   "id": "50c1635b",
   "metadata": {
    "ExecuteTime": {
     "end_time": "2025-02-19T16:57:08.689948Z",
     "start_time": "2025-02-19T16:57:07.861508Z"
    }
   },
   "source": [
    "import numpy as np\n",
    "import matplotlib.pyplot as plt\n",
    "import seaborn as sns\n",
    "from sklearn import datasets\n",
    "from sklearn.model_selection import train_test_split\n",
    "from sklearn.preprocessing import StandardScaler\n",
    "from sklearn.tree import DecisionTreeClassifier, plot_tree, export_text\n",
    "from sklearn.linear_model import LinearRegression\n",
    "from sklearn.metrics import mean_squared_error, r2_score"
   ],
   "outputs": [],
   "execution_count": 2
  },
  {
   "cell_type": "markdown",
   "id": "00d48814",
   "metadata": {},
   "source": [
    "# Classification\n",
    "\n",
    "## Chargement et visualisation du dataset Iris"
   ]
  },
  {
   "cell_type": "markdown",
   "id": "aab4ee3d",
   "metadata": {},
   "source": [
    "Nous allons utiliser le dataset Iris, un jeu de données classique en machine learning. \n",
    "\n",
    "Il contient trois classes de fleurs \n",
    "* Setosa \n",
    "* Versicolor\n",
    "* Virginica\n",
    "\n",
    "Avec quatre caractéristiques : \n",
    "\n",
    "* la longueur\n",
    "* la largeur des sépales et des pétales. \n",
    "\n",
    "Pour simplifier, nous allons utiliser uniquement la longueur et la largeur des sépales.\n",
    "\n",
    "---\n",
    "\n",
    "1. **`iris = datasets.load_iris()`**  \n",
    "   - Cette ligne charge le dataset *Iris* inclus dans `scikit-learn`.  \n",
    "   - `iris` est un objet de type `Bunch`, similaire à un dictionnaire, contenant les données et les métadonnées du dataset.  \n",
    "   - Il inclut `iris.data` (les features), `iris.target` (les labels des classes) et `iris.feature_names` (les noms des colonnes).  \n",
    "\n",
    "2. **`X = iris.data[:, :2]`**  \n",
    "   - `iris.data` est une matrice NumPy de shape `(150, 4)`, où 150 représente le nombre d’échantillons et 4 le nombre de caractéristiques (longueur/largeur des sépales et pétales).  \n",
    "   - `[:, :2]` sélectionne uniquement les deux premières colonnes (longueur et largeur des sépales).  \n",
    "   - `X` devient donc une matrice de shape `(150, 2)`.  \n",
    "\n",
    "3. **`y = iris.target`**  \n",
    "   - `iris.target` contient les étiquettes des classes (`0` pour *Setosa*, `1` pour *Versicolor*, `2` pour *Virginica*).  \n",
    "   - C'est un tableau NumPy de shape `(150,)`, où chaque valeur correspond à la classe d'un échantillon.  \n",
    "\n",
    "---\n",
    "\n",
    "* isis: <class 'sklearn.utils._bunch.Bunch'>\n",
    "* iris.data: `(150, 4)`\n",
    "* X: `(150, 2)`\n",
    "* iris.target: `(150,)`\n",
    "* y: `(150,)`"
   ]
  },
  {
   "cell_type": "code",
   "id": "13b59203",
   "metadata": {
    "ExecuteTime": {
     "end_time": "2025-02-19T16:57:12.823074Z",
     "start_time": "2025-02-19T16:57:12.820441Z"
    }
   },
   "source": [
    "iris = datasets.load_iris()\n",
    "X = iris.data[:, :2]  # On prend les deux premières features pour une visualisation plus facile\n",
    "y = iris.target"
   ],
   "outputs": [],
   "execution_count": 3
  },
  {
   "cell_type": "markdown",
   "id": "1859f66b",
   "metadata": {},
   "source": [
    "Avant d'entraîner un modèle, il est important d'explorer les données. \n",
    "\n",
    "Ici, nous affichons un `scatter plot` montrant la distribution des échantillons en fonction de la longueur et de la largeur des sépales. \n",
    "\n",
    "Les couleurs indiquent les différentes classes de fleurs.\n",
    "\n",
    "---\n",
    "\n",
    "1. **`plt.figure(figsize=(8, 6))`**  \n",
    "   - Crée une nouvelle figure avec une taille de `8x6` pouces.  \n",
    "   - Cela permet de contrôler la taille du graphique pour une meilleure lisibilité.  \n",
    "\n",
    "2. **`sns.scatterplot(x=X[:, 0], y=X[:, 1], hue=y, palette='viridis', edgecolor='k')`**  \n",
    "   - Utilisation de `seaborn.scatterplot` pour créer un graphique en nuage de points (scatter plot).  \n",
    "   - **`x=X[:, 0]`** : Les valeurs sur l’axe des abscisses correspondent à la première caractéristique (*Sepal Length*).  \n",
    "   - **`y=X[:, 1]`** : Les valeurs sur l’axe des ordonnées correspondent à la seconde caractéristique (*Sepal Width*).  \n",
    "   - **`hue=y`** : La couleur des points est déterminée par la classe (`0`, `1` ou `2`), ce qui permet de visualiser les trois types de fleurs.  \n",
    "   - **`palette='viridis'`** : Utilise une palette de couleurs pour distinguer les classes.  \n",
    "   - **`edgecolor='k'`** : Ajoute un contour noir aux points pour les rendre plus visibles.  \n",
    "\n",
    "3. **`plt.xlabel('Sepal Length')`**  \n",
    "   - Définit l’étiquette de l’axe des abscisses.  \n",
    "\n",
    "4. **`plt.ylabel('Sepal Width')`**  \n",
    "   - Définit l’étiquette de l’axe des ordonnées.  \n",
    "\n",
    "5. **`plt.title('Visualisation des classes dans le dataset Iris')`**  \n",
    "   - Ajoute un titre au graphique pour indiquer ce qu'il représente.  \n",
    "\n",
    "6. **`plt.legend(title='Classe', labels=iris.target_names)`**  \n",
    "   - Affiche une légende expliquant quelle couleur correspond à quelle classe.  \n",
    "   - **`title='Classe'`** : Définit un titre pour la légende.  \n",
    "   - **`labels=iris.target_names`** : Utilise les noms réels des classes (*Setosa*, *Versicolor*, *Virginica*) au lieu des valeurs numériques (`0`, `1`, `2`).  \n",
    "\n",
    "7. **`plt.show()`**  \n",
    "   - Affiche le graphique à l’écran.  "
   ]
  },
  {
   "cell_type": "code",
   "id": "09afad0b",
   "metadata": {
    "ExecuteTime": {
     "end_time": "2025-02-19T16:57:15.571446Z",
     "start_time": "2025-02-19T16:57:15.426446Z"
    }
   },
   "source": [
    "# Visualisation du dataset Iris\n",
    "plt.figure(figsize=(8, 6))\n",
    "sns.scatterplot(x=X[:, 0], y=X[:, 1], hue=y, palette='viridis', edgecolor='k')\n",
    "plt.xlabel('Sepal Length')\n",
    "plt.ylabel('Sepal Width')\n",
    "plt.title('Visualisation des classes dans le dataset Iris')\n",
    "plt.legend(title='Classe', labels=iris.target_names)\n",
    "plt.show()"
   ],
   "outputs": [
    {
     "data": {
      "text/plain": [
       "<Figure size 800x600 with 1 Axes>"
      ],
      "image/png": "[encoded data removed]"
     },
     "metadata": {},
     "output_type": "display_data"
    }
   ],
   "execution_count": 4
  },
  {
   "cell_type": "markdown",
   "id": "adfa55d8",
   "metadata": {},
   "source": [
    "## Séparation des données et normalisation"
   ]
  },
  {
   "cell_type": "markdown",
   "id": "6cf312de",
   "metadata": {},
   "source": [
    "Nous allons diviser les données en un jeu d'entraînement (70%) et un jeu de test (30%). \n",
    "\n",
    "Cela permet d'évaluer le modèle sur des données qu'il n'a jamais vues. \n",
    "\n",
    "Ensuite, nous normalisons les ``features`` pour que toutes les valeurs soient sur la même échelle, ce qui améliore souvent les performances des modèles.\n",
    "\n",
    "---\n",
    "\n",
    "### **Séparation des données en jeu d’entraînement et de test**\n",
    "1. **`X_train, X_test, y_train, y_test = train_test_split(X, y, test_size=0.3, random_state=42)`**  \n",
    "   - **Objectif** : Diviser les données en un jeu d'entraînement (70%) et un jeu de test (30%).  \n",
    "   - **`X`** : Les caractéristiques (features) des échantillons.  \n",
    "   - **`y`** : Les étiquettes de classe (0, 1 ou 2).  \n",
    "   - **`test_size=0.3`** : 30% des données seront utilisées pour tester le modèle.  \n",
    "   - **`random_state=42`** : Fixe une graine aléatoire pour obtenir toujours la même répartition des données (répétabilité des résultats).  \n",
    "   - **Résultat** :  \n",
    "     - `X_train.shape` → `(105, 2)`, contient 105 échantillons pour l'entraînement.  \n",
    "     - `X_test.shape` → `(45, 2)`, contient 45 échantillons pour le test.  \n",
    "     - `y_train.shape` → `(105,)`, labels associés aux données d'entraînement.  \n",
    "     - `y_test.shape` → `(45,)`, labels associés aux données de test.  \n",
    "\n",
    "---\n",
    "\n",
    "### **Standardisation des données**\n",
    "2. **`scaler = StandardScaler()`**  \n",
    "   - Initialise un standardiseur (`StandardScaler` de `scikit-learn`).  \n",
    "   - La standardisation permet de centrer les données autour de 0 avec un écart-type de 1.  \n",
    "   - Cela est souvent recommandé pour améliorer la performance des modèles, surtout ceux sensibles à l’échelle des variables.  \n",
    "\n",
    "3. **`X_train = scaler.fit_transform(X_train)`**  \n",
    "   - **`fit_transform()`** :  \n",
    "     - **`fit`** : Calcule la moyenne et l’écart-type des données d'entraînement.  \n",
    "     - **`transform`** : Applique la transformation :  \n",
    "       \\[\n",
    "       X_{\\text{scaled}} = \\frac{X - \\mu}{\\sigma}\n",
    "       \\]\n",
    "     où \\( \\mu \\) est la moyenne et \\( \\sigma \\) l’écart-type de chaque feature.  \n",
    "\n",
    "4. **`X_test = scaler.transform(X_test)`**  \n",
    "   - **Important** : On applique uniquement `transform()` (sans `fit`) sur les données de test.  \n",
    "   - Cela garantit que le modèle utilise la même normalisation que celle calculée sur les données d'entraînement.  \n",
    "   - Si on utilisait `fit_transform()`, la moyenne et l’écart-type seraient recalculés sur `X_test`, ce qui biaiserait les résultats.  "
   ]
  },
  {
   "cell_type": "code",
   "id": "2fd51b1c",
   "metadata": {
    "ExecuteTime": {
     "end_time": "2025-02-19T16:57:36.993700Z",
     "start_time": "2025-02-19T16:57:36.982249Z"
    }
   },
   "source": [
    "X_train, X_test, y_train, y_test = train_test_split(X, y, test_size=0.3, random_state=42)\n",
    "scaler = StandardScaler()\n",
    "X_train = scaler.fit_transform(X_train)\n",
    "X_test = scaler.transform(X_test)"
   ],
   "outputs": [],
   "execution_count": 5
  },
  {
   "cell_type": "code",
   "id": "00b83aaa",
   "metadata": {
    "ExecuteTime": {
     "end_time": "2025-02-19T16:57:37.375779Z",
     "start_time": "2025-02-19T16:57:37.371538Z"
    }
   },
   "source": [
    "X_train.shape"
   ],
   "outputs": [
    {
     "data": {
      "text/plain": [
       "(105, 2)"
      ]
     },
     "execution_count": 6,
     "metadata": {},
     "output_type": "execute_result"
    }
   ],
   "execution_count": 6
  },
  {
   "cell_type": "code",
   "id": "885b3bca",
   "metadata": {
    "ExecuteTime": {
     "end_time": "2025-02-19T16:57:37.768111Z",
     "start_time": "2025-02-19T16:57:37.761709Z"
    }
   },
   "source": [
    "X_test.shape"
   ],
   "outputs": [
    {
     "data": {
      "text/plain": [
       "(45, 2)"
      ]
     },
     "execution_count": 7,
     "metadata": {},
     "output_type": "execute_result"
    }
   ],
   "execution_count": 7
  },
  {
   "cell_type": "code",
   "id": "bbea809c",
   "metadata": {
    "ExecuteTime": {
     "end_time": "2025-02-19T16:57:38.097932Z",
     "start_time": "2025-02-19T16:57:38.090339Z"
    }
   },
   "source": [
    "y_train.shape"
   ],
   "outputs": [
    {
     "data": {
      "text/plain": [
       "(105,)"
      ]
     },
     "execution_count": 8,
     "metadata": {},
     "output_type": "execute_result"
    }
   ],
   "execution_count": 8
  },
  {
   "cell_type": "code",
   "id": "22415dc6",
   "metadata": {
    "ExecuteTime": {
     "end_time": "2025-02-19T16:57:38.452483Z",
     "start_time": "2025-02-19T16:57:38.442138Z"
    }
   },
   "source": [
    "y_test.shape"
   ],
   "outputs": [
    {
     "data": {
      "text/plain": [
       "(45,)"
      ]
     },
     "execution_count": 9,
     "metadata": {},
     "output_type": "execute_result"
    }
   ],
   "execution_count": 9
  },
  {
   "cell_type": "markdown",
   "id": "45f3f3cc",
   "metadata": {},
   "source": [
    "## Entraînement et visualisation d'un arbre de décision"
   ]
  },
  {
   "cell_type": "markdown",
   "id": "4c973076",
   "metadata": {},
   "source": [
    "Nous entraînons un arbre de décision pour classer les fleurs en fonction de leurs caractéristiques. \n",
    "\n",
    "L'hyperparamètre ``max_depth=3`` limite la profondeur de l'arbre, évitant un sur-apprentissage sur les données d'entraînement.\n",
    "\n",
    "Ajoute cette explication avant la cellule contenant ce code :\n",
    "\n",
    "---\n",
    "\n",
    "### **Entraînement du modèle de classification avec un arbre de décision**\n",
    "1. **`dtree = DecisionTreeClassifier(max_depth=3)`**  \n",
    "   - Crée un modèle d’arbre de décision (`DecisionTreeClassifier`) de `scikit-learn`.  \n",
    "   - **`max_depth=3`** : Limite la profondeur de l’arbre à 3 niveaux.  \n",
    "     - Cela évite que l’arbre ne devienne trop complexe et ne mémorise trop les données d’entraînement (*overfitting*).  \n",
    "     - Un arbre trop profond risque d’être très performant sur les données d’entraînement, mais mauvais sur les nouvelles données.  \n",
    "\n",
    "2. **`dtree.fit(X_train, y_train)`**  \n",
    "   - Entraîne l’arbre de décision sur les données d’entraînement (`X_train`, `y_train`).  \n",
    "   - L’algorithme choisit les meilleurs seuils de séparation pour chaque feature afin de diviser les données en classes.  \n",
    "   - L’arbre apprend à reconnaître les schémas qui permettent de différencier les fleurs du dataset Iris.  "
   ]
  },
  {
   "cell_type": "code",
   "id": "b46fb105",
   "metadata": {
    "ExecuteTime": {
     "end_time": "2025-02-19T16:57:40.144918Z",
     "start_time": "2025-02-19T16:57:40.133468Z"
    }
   },
   "source": [
    "dtree = DecisionTreeClassifier(max_depth=3)\n",
    "dtree.fit(X_train, y_train)"
   ],
   "outputs": [
    {
     "data": {
      "text/plain": [
       "DecisionTreeClassifier(max_depth=3)"
      ],
      "text/html": [
       "<style>#sk-container-id-1 {\n",
       "  /* Definition of color scheme common for light and dark mode */\n",
       "  --sklearn-color-text: #000;\n",
       "  --sklearn-color-text-muted: #666;\n",
       "  --sklearn-color-line: gray;\n",
       "  /* Definition of color scheme for unfitted estimators */\n",
       "  --sklearn-color-unfitted-level-0: #fff5e6;\n",
       "  --sklearn-color-unfitted-level-1: #f6e4d2;\n",
       "  --sklearn-color-unfitted-level-2: #ffe0b3;\n",
       "  --sklearn-color-unfitted-level-3: chocolate;\n",
       "  /* Definition of color scheme for fitted estimators */\n",
       "  --sklearn-color-fitted-level-0: #f0f8ff;\n",
       "  --sklearn-color-fitted-level-1: #d4ebff;\n",
       "  --sklearn-color-fitted-level-2: #b3dbfd;\n",
       "  --sklearn-color-fitted-level-3: cornflowerblue;\n",
       "\n",
       "  /* Specific color for light theme */\n",
       "  --sklearn-color-text-on-default-background: var(--sg-text-color, var(--theme-code-foreground, var(--jp-content-font-color1, black)));\n",
       "  --sklearn-color-background: var(--sg-background-color, var(--theme-background, var(--jp-layout-color0, white)));\n",
       "  --sklearn-color-border-box: var(--sg-text-color, var(--theme-code-foreground, var(--jp-content-font-color1, black)));\n",
       "  --sklearn-color-icon: #696969;\n",
       "\n",
       "  @media (prefers-color-scheme: dark) {\n",
       "    /* Redefinition of color scheme for dark theme */\n",
       "    --sklearn-color-text-on-default-background: var(--sg-text-color, var(--theme-code-foreground, var(--jp-content-font-color1, white)));\n",
       "    --sklearn-color-background: var(--sg-background-color, var(--theme-background, var(--jp-layout-color0, #111)));\n",
       "    --sklearn-color-border-box: var(--sg-text-color, var(--theme-code-foreground, var(--jp-content-font-color1, white)));\n",
       "    --sklearn-color-icon: #878787;\n",
       "  }\n",
       "}\n",
       "\n",
       "#sk-container-id-1 {\n",
       "  color: var(--sklearn-color-text);\n",
       "}\n",
       "\n",
       "#sk-container-id-1 pre {\n",
       "  padding: 0;\n",
       "}\n",
       "\n",
       "#sk-container-id-1 input.sk-hidden--visually {\n",
       "  border: 0;\n",
       "  clip: rect(1px 1px 1px 1px);\n",
       "  clip: rect(1px, 1px, 1px, 1px);\n",
       "  height: 1px;\n",
       "  margin: -1px;\n",
       "  overflow: hidden;\n",
       "  padding: 0;\n",
       "  position: absolute;\n",
       "  width: 1px;\n",
       "}\n",
       "\n",
       "#sk-container-id-1 div.sk-dashed-wrapped {\n",
       "  border: 1px dashed var(--sklearn-color-line);\n",
       "  margin: 0 0.4em 0.5em 0.4em;\n",
       "  box-sizing: border-box;\n",
       "  padding-bottom: 0.4em;\n",
       "  background-color: var(--sklearn-color-background);\n",
       "}\n",
       "\n",
       "#sk-container-id-1 div.sk-container {\n",
       "  /* jupyter's `normalize.less` sets `[hidden] { display: none; }`\n",
       "     but bootstrap.min.css set `[hidden] { display: none !important; }`\n",
       "     so we also need the `!important` here to be able to override the\n",
       "     default hidden behavior on the sphinx rendered scikit-learn.org.\n",
       "     See: https://github.com/scikit-learn/scikit-learn/issues/21755 */\n",
       "  display: inline-block !important;\n",
       "  position: relative;\n",
       "}\n",
       "\n",
       "#sk-container-id-1 div.sk-text-repr-fallback {\n",
       "  display: none;\n",
       "}\n",
       "\n",
       "div.sk-parallel-item,\n",
       "div.sk-serial,\n",
       "div.sk-item {\n",
       "  /* draw centered vertical line to link estimators */\n",
       "  background-image: linear-gradient(var(--sklearn-color-text-on-default-background), var(--sklearn-color-text-on-default-background));\n",
       "  background-size: 2px 100%;\n",
       "  background-repeat: no-repeat;\n",
       "  background-position: center center;\n",
       "}\n",
       "\n",
       "/* Parallel-specific style estimator block */\n",
       "\n",
       "#sk-container-id-1 div.sk-parallel-item::after {\n",
       "  content: \"\";\n",
       "  width: 100%;\n",
       "  border-bottom: 2px solid var(--sklearn-color-text-on-default-background);\n",
       "  flex-grow: 1;\n",
       "}\n",
       "\n",
       "#sk-container-id-1 div.sk-parallel {\n",
       "  display: flex;\n",
       "  align-items: stretch;\n",
       "  justify-content: center;\n",
       "  background-color: var(--sklearn-color-background);\n",
       "  position: relative;\n",
       "}\n",
       "\n",
       "#sk-container-id-1 div.sk-parallel-item {\n",
       "  display: flex;\n",
       "  flex-direction: column;\n",
       "}\n",
       "\n",
       "#sk-container-id-1 div.sk-parallel-item:first-child::after {\n",
       "  align-self: flex-end;\n",
       "  width: 50%;\n",
       "}\n",
       "\n",
       "#sk-container-id-1 div.sk-parallel-item:last-child::after {\n",
       "  align-self: flex-start;\n",
       "  width: 50%;\n",
       "}\n",
       "\n",
       "#sk-container-id-1 div.sk-parallel-item:only-child::after {\n",
       "  width: 0;\n",
       "}\n",
       "\n",
       "/* Serial-specific style estimator block */\n",
       "\n",
       "#sk-container-id-1 div.sk-serial {\n",
       "  display: flex;\n",
       "  flex-direction: column;\n",
       "  align-items: center;\n",
       "  background-color: var(--sklearn-color-background);\n",
       "  padding-right: 1em;\n",
       "  padding-left: 1em;\n",
       "}\n",
       "\n",
       "\n",
       "/* Toggleable style: style used for estimator/Pipeline/ColumnTransformer box that is\n",
       "clickable and can be expanded/collapsed.\n",
       "- Pipeline and ColumnTransformer use this feature and define the default style\n",
       "- Estimators will overwrite some part of the style using the `sk-estimator` class\n",
       "*/\n",
       "\n",
       "/* Pipeline and ColumnTransformer style (default) */\n",
       "\n",
       "#sk-container-id-1 div.sk-toggleable {\n",
       "  /* Default theme specific background. It is overwritten whether we have a\n",
       "  specific estimator or a Pipeline/ColumnTransformer */\n",
       "  background-color: var(--sklearn-color-background);\n",
       "}\n",
       "\n",
       "/* Toggleable label */\n",
       "#sk-container-id-1 label.sk-toggleable__label {\n",
       "  cursor: pointer;\n",
       "  display: flex;\n",
       "  width: 100%;\n",
       "  margin-bottom: 0;\n",
       "  padding: 0.5em;\n",
       "  box-sizing: border-box;\n",
       "  text-align: center;\n",
       "  align-items: start;\n",
       "  justify-content: space-between;\n",
       "  gap: 0.5em;\n",
       "}\n",
       "\n",
       "#sk-container-id-1 label.sk-toggleable__label .caption {\n",
       "  font-size: 0.6rem;\n",
       "  font-weight: lighter;\n",
       "  color: var(--sklearn-color-text-muted);\n",
       "}\n",
       "\n",
       "#sk-container-id-1 label.sk-toggleable__label-arrow:before {\n",
       "  /* Arrow on the left of the label */\n",
       "  content: \"▸\";\n",
       "  float: left;\n",
       "  margin-right: 0.25em;\n",
       "  color: var(--sklearn-color-icon);\n",
       "}\n",
       "\n",
       "#sk-container-id-1 label.sk-toggleable__label-arrow:hover:before {\n",
       "  color: var(--sklearn-color-text);\n",
       "}\n",
       "\n",
       "/* Toggleable content - dropdown */\n",
       "\n",
       "#sk-container-id-1 div.sk-toggleable__content {\n",
       "  max-height: 0;\n",
       "  max-width: 0;\n",
       "  overflow: hidden;\n",
       "  text-align: left;\n",
       "  /* unfitted */\n",
       "  background-color: var(--sklearn-color-unfitted-level-0);\n",
       "}\n",
       "\n",
       "#sk-container-id-1 div.sk-toggleable__content.fitted {\n",
       "  /* fitted */\n",
       "  background-color: var(--sklearn-color-fitted-level-0);\n",
       "}\n",
       "\n",
       "#sk-container-id-1 div.sk-toggleable__content pre {\n",
       "  margin: 0.2em;\n",
       "  border-radius: 0.25em;\n",
       "  color: var(--sklearn-color-text);\n",
       "  /* unfitted */\n",
       "  background-color: var(--sklearn-color-unfitted-level-0);\n",
       "}\n",
       "\n",
       "#sk-container-id-1 div.sk-toggleable__content.fitted pre {\n",
       "  /* unfitted */\n",
       "  background-color: var(--sklearn-color-fitted-level-0);\n",
       "}\n",
       "\n",
       "#sk-container-id-1 input.sk-toggleable__control:checked~div.sk-toggleable__content {\n",
       "  /* Expand drop-down */\n",
       "  max-height: 200px;\n",
       "  max-width: 100%;\n",
       "  overflow: auto;\n",
       "}\n",
       "\n",
       "#sk-container-id-1 input.sk-toggleable__control:checked~label.sk-toggleable__label-arrow:before {\n",
       "  content: \"▾\";\n",
       "}\n",
       "\n",
       "/* Pipeline/ColumnTransformer-specific style */\n",
       "\n",
       "#sk-container-id-1 div.sk-label input.sk-toggleable__control:checked~label.sk-toggleable__label {\n",
       "  color: var(--sklearn-color-text);\n",
       "  background-color: var(--sklearn-color-unfitted-level-2);\n",
       "}\n",
       "\n",
       "#sk-container-id-1 div.sk-label.fitted input.sk-toggleable__control:checked~label.sk-toggleable__label {\n",
       "  background-color: var(--sklearn-color-fitted-level-2);\n",
       "}\n",
       "\n",
       "/* Estimator-specific style */\n",
       "\n",
       "/* Colorize estimator box */\n",
       "#sk-container-id-1 div.sk-estimator input.sk-toggleable__control:checked~label.sk-toggleable__label {\n",
       "  /* unfitted */\n",
       "  background-color: var(--sklearn-color-unfitted-level-2);\n",
       "}\n",
       "\n",
       "#sk-container-id-1 div.sk-estimator.fitted input.sk-toggleable__control:checked~label.sk-toggleable__label {\n",
       "  /* fitted */\n",
       "  background-color: var(--sklearn-color-fitted-level-2);\n",
       "}\n",
       "\n",
       "#sk-container-id-1 div.sk-label label.sk-toggleable__label,\n",
       "#sk-container-id-1 div.sk-label label {\n",
       "  /* The background is the default theme color */\n",
       "  color: var(--sklearn-color-text-on-default-background);\n",
       "}\n",
       "\n",
       "/* On hover, darken the color of the background */\n",
       "#sk-container-id-1 div.sk-label:hover label.sk-toggleable__label {\n",
       "  color: var(--sklearn-color-text);\n",
       "  background-color: var(--sklearn-color-unfitted-level-2);\n",
       "}\n",
       "\n",
       "/* Label box, darken color on hover, fitted */\n",
       "#sk-container-id-1 div.sk-label.fitted:hover label.sk-toggleable__label.fitted {\n",
       "  color: var(--sklearn-color-text);\n",
       "  background-color: var(--sklearn-color-fitted-level-2);\n",
       "}\n",
       "\n",
       "/* Estimator label */\n",
       "\n",
       "#sk-container-id-1 div.sk-label label {\n",
       "  font-family: monospace;\n",
       "  font-weight: bold;\n",
       "  display: inline-block;\n",
       "  line-height: 1.2em;\n",
       "}\n",
       "\n",
       "#sk-container-id-1 div.sk-label-container {\n",
       "  text-align: center;\n",
       "}\n",
       "\n",
       "/* Estimator-specific */\n",
       "#sk-container-id-1 div.sk-estimator {\n",
       "  font-family: monospace;\n",
       "  border: 1px dotted var(--sklearn-color-border-box);\n",
       "  border-radius: 0.25em;\n",
       "  box-sizing: border-box;\n",
       "  margin-bottom: 0.5em;\n",
       "  /* unfitted */\n",
       "  background-color: var(--sklearn-color-unfitted-level-0);\n",
       "}\n",
       "\n",
       "#sk-container-id-1 div.sk-estimator.fitted {\n",
       "  /* fitted */\n",
       "  background-color: var(--sklearn-color-fitted-level-0);\n",
       "}\n",
       "\n",
       "/* on hover */\n",
       "#sk-container-id-1 div.sk-estimator:hover {\n",
       "  /* unfitted */\n",
       "  background-color: var(--sklearn-color-unfitted-level-2);\n",
       "}\n",
       "\n",
       "#sk-container-id-1 div.sk-estimator.fitted:hover {\n",
       "  /* fitted */\n",
       "  background-color: var(--sklearn-color-fitted-level-2);\n",
       "}\n",
       "\n",
       "/* Specification for estimator info (e.g. \"i\" and \"?\") */\n",
       "\n",
       "/* Common style for \"i\" and \"?\" */\n",
       "\n",
       ".sk-estimator-doc-link,\n",
       "a:link.sk-estimator-doc-link,\n",
       "a:visited.sk-estimator-doc-link {\n",
       "  float: right;\n",
       "  font-size: smaller;\n",
       "  line-height: 1em;\n",
       "  font-family: monospace;\n",
       "  background-color: var(--sklearn-color-background);\n",
       "  border-radius: 1em;\n",
       "  height: 1em;\n",
       "  width: 1em;\n",
       "  text-decoration: none !important;\n",
       "  margin-left: 0.5em;\n",
       "  text-align: center;\n",
       "  /* unfitted */\n",
       "  border: var(--sklearn-color-unfitted-level-1) 1pt solid;\n",
       "  color: var(--sklearn-color-unfitted-level-1);\n",
       "}\n",
       "\n",
       ".sk-estimator-doc-link.fitted,\n",
       "a:link.sk-estimator-doc-link.fitted,\n",
       "a:visited.sk-estimator-doc-link.fitted {\n",
       "  /* fitted */\n",
       "  border: var(--sklearn-color-fitted-level-1) 1pt solid;\n",
       "  color: var(--sklearn-color-fitted-level-1);\n",
       "}\n",
       "\n",
       "/* On hover */\n",
       "div.sk-estimator:hover .sk-estimator-doc-link:hover,\n",
       ".sk-estimator-doc-link:hover,\n",
       "div.sk-label-container:hover .sk-estimator-doc-link:hover,\n",
       ".sk-estimator-doc-link:hover {\n",
       "  /* unfitted */\n",
       "  background-color: var(--sklearn-color-unfitted-level-3);\n",
       "  color: var(--sklearn-color-background);\n",
       "  text-decoration: none;\n",
       "}\n",
       "\n",
       "div.sk-estimator.fitted:hover .sk-estimator-doc-link.fitted:hover,\n",
       ".sk-estimator-doc-link.fitted:hover,\n",
       "div.sk-label-container:hover .sk-estimator-doc-link.fitted:hover,\n",
       ".sk-estimator-doc-link.fitted:hover {\n",
       "  /* fitted */\n",
       "  background-color: var(--sklearn-color-fitted-level-3);\n",
       "  color: var(--sklearn-color-background);\n",
       "  text-decoration: none;\n",
       "}\n",
       "\n",
       "/* Span, style for the box shown on hovering the info icon */\n",
       ".sk-estimator-doc-link span {\n",
       "  display: none;\n",
       "  z-index: 9999;\n",
       "  position: relative;\n",
       "  font-weight: normal;\n",
       "  right: .2ex;\n",
       "  padding: .5ex;\n",
       "  margin: .5ex;\n",
       "  width: min-content;\n",
       "  min-width: 20ex;\n",
       "  max-width: 50ex;\n",
       "  color: var(--sklearn-color-text);\n",
       "  box-shadow: 2pt 2pt 4pt #999;\n",
       "  /* unfitted */\n",
       "  background: var(--sklearn-color-unfitted-level-0);\n",
       "  border: .5pt solid var(--sklearn-color-unfitted-level-3);\n",
       "}\n",
       "\n",
       ".sk-estimator-doc-link.fitted span {\n",
       "  /* fitted */\n",
       "  background: var(--sklearn-color-fitted-level-0);\n",
       "  border: var(--sklearn-color-fitted-level-3);\n",
       "}\n",
       "\n",
       ".sk-estimator-doc-link:hover span {\n",
       "  display: block;\n",
       "}\n",
       "\n",
       "/* \"?\"-specific style due to the `<a>` HTML tag */\n",
       "\n",
       "#sk-container-id-1 a.estimator_doc_link {\n",
       "  float: right;\n",
       "  font-size: 1rem;\n",
       "  line-height: 1em;\n",
       "  font-family: monospace;\n",
       "  background-color: var(--sklearn-color-background);\n",
       "  border-radius: 1rem;\n",
       "  height: 1rem;\n",
       "  width: 1rem;\n",
       "  text-decoration: none;\n",
       "  /* unfitted */\n",
       "  color: var(--sklearn-color-unfitted-level-1);\n",
       "  border: var(--sklearn-color-unfitted-level-1) 1pt solid;\n",
       "}\n",
       "\n",
       "#sk-container-id-1 a.estimator_doc_link.fitted {\n",
       "  /* fitted */\n",
       "  border: var(--sklearn-color-fitted-level-1) 1pt solid;\n",
       "  color: var(--sklearn-color-fitted-level-1);\n",
       "}\n",
       "\n",
       "/* On hover */\n",
       "#sk-container-id-1 a.estimator_doc_link:hover {\n",
       "  /* unfitted */\n",
       "  background-color: var(--sklearn-color-unfitted-level-3);\n",
       "  color: var(--sklearn-color-background);\n",
       "  text-decoration: none;\n",
       "}\n",
       "\n",
       "#sk-container-id-1 a.estimator_doc_link.fitted:hover {\n",
       "  /* fitted */\n",
       "  background-color: var(--sklearn-color-fitted-level-3);\n",
       "}\n",
       "</style><div id=\"sk-container-id-1\" class=\"sk-top-container\"><div class=\"sk-text-repr-fallback\"><pre>DecisionTreeClassifier(max_depth=3)</pre><b>In a Jupyter environment, please rerun this cell to show the HTML representation or trust the notebook. <br />On GitHub, the HTML representation is unable to render, please try loading this page with nbviewer.org.</b></div><div class=\"sk-container\" hidden><div class=\"sk-item\"><div class=\"sk-estimator fitted sk-toggleable\"><input class=\"sk-toggleable__control sk-hidden--visually\" id=\"sk-estimator-id-1\" type=\"checkbox\" checked><label for=\"sk-estimator-id-1\" class=\"sk-toggleable__label fitted sk-toggleable__label-arrow\"><div><div>DecisionTreeClassifier</div></div><div><a class=\"sk-estimator-doc-link fitted\" rel=\"noreferrer\" target=\"_blank\" href=\"https://scikit-learn.org/1.6/modules/generated/sklearn.tree.DecisionTreeClassifier.html\">?<span>Documentation for DecisionTreeClassifier</span></a><span class=\"sk-estimator-doc-link fitted\">i<span>Fitted</span></span></div></label><div class=\"sk-toggleable__content fitted\"><pre>DecisionTreeClassifier(max_depth=3)</pre></div> </div></div></div></div>"
      ]
     },
     "execution_count": 10,
     "metadata": {},
     "output_type": "execute_result"
    }
   ],
   "execution_count": 10
  },
  {
   "cell_type": "markdown",
   "id": "4816a719",
   "metadata": {},
   "source": [
    "### **Évaluation du modèle**\n",
    "3. **`accuracy_dtree = dtree.score(X_test, y_test)`**  \n",
    "   - Évalue la précision (*accuracy*) du modèle sur les données de test.  \n",
    "   - **Fonctionnement de `score(X, y)` :**  \n",
    "     - Calcule le pourcentage de prédictions correctes par rapport aux vraies classes.  \n",
    "     - \\[\n",
    "       \\text{Accuracy} = \\frac{\\text{Nombre de prédictions correctes}}{\\text{Nombre total d’échantillons}}\n",
    "       \\]  \n",
    "   - **Exemple** : Si le modèle classe correctement 34 échantillons sur 45, l'accuracy sera `34/45 ≈ 0.76` (76%).  \n",
    "\n",
    "4. **`print(f'Decision Tree Accuracy: {accuracy_dtree:.2f}')`**  \n",
    "   - Affiche la précision du modèle avec 2 décimales (`:.2f`).  \n",
    "   - Exemple de sortie :  \n",
    "     ```\n",
    "     Decision Tree Accuracy: 0.78\n",
    "     ```  \n",
    "   - Une accuracy proche de 1.0 indique un bon modèle, mais si elle est trop élevée sur les données d’entraînement et faible sur les tests, cela peut signaler un *overfitting*.  "
   ]
  },
  {
   "cell_type": "code",
   "id": "0673d9d1",
   "metadata": {
    "ExecuteTime": {
     "end_time": "2025-02-19T16:57:41.980472Z",
     "start_time": "2025-02-19T16:57:41.974245Z"
    }
   },
   "source": [
    "accuracy_dtree = dtree.score(X_test, y_test)\n",
    "print(f'Decision Tree Accuracy: {accuracy_dtree:.2f}')"
   ],
   "outputs": [
    {
     "name": "stdout",
     "output_type": "stream",
     "text": [
      "Decision Tree Accuracy: 0.78\n"
     ]
    }
   ],
   "execution_count": 11
  },
  {
   "cell_type": "code",
   "id": "c9af09da",
   "metadata": {
    "ExecuteTime": {
     "end_time": "2025-02-19T16:57:42.911611Z",
     "start_time": "2025-02-19T16:57:42.900213Z"
    }
   },
   "source": [
    "type(accuracy_dtree)"
   ],
   "outputs": [
    {
     "data": {
      "text/plain": [
       "float"
      ]
     },
     "execution_count": 12,
     "metadata": {},
     "output_type": "execute_result"
    }
   ],
   "execution_count": 12
  },
  {
   "cell_type": "markdown",
   "id": "88facc61",
   "metadata": {},
   "source": [
    "L'arbre de décision peut être représenté graphiquement. \n",
    "\n",
    "Chaque nœud correspond à une décision basée sur une caractéristique, et les feuilles indiquent la classe prédite.\n",
    "\n",
    "---\n",
    "\n",
    "### **Visualisation de l'arbre de décision**\n",
    "1. **`plt.figure(figsize=(12, 8))`**  \n",
    "   - Crée une figure avec une taille de `12x8` pouces pour afficher l’arbre de décision de manière lisible.  \n",
    "\n",
    "2. **`plot_tree(dtree, filled=True, feature_names=['Sepal Length', 'Sepal Width'], class_names=iris.target_names, rounded=True, fontsize=8)`**  \n",
    "   - **`plot_tree(dtree)`** : Génère un diagramme représentant l’arbre de décision entraîné (`dtree`).  \n",
    "   - **`filled=True`** : Remplit les nœuds avec une couleur indiquant la classe prédominante.  \n",
    "     - Plus la couleur est intense, plus la classe est prédominante dans cette région de l’arbre.  \n",
    "   - **`feature_names=['Sepal Length', 'Sepal Width']`** : Nomme les axes de séparation avec les caractéristiques utilisées.  \n",
    "   - **`class_names=iris.target_names`** : Associe les numéros des classes (`0`, `1`, `2`) aux noms des fleurs (*Setosa*, *Versicolor*, *Virginica*).  \n",
    "   - **`rounded=True`** : Arrondit les bords des nœuds pour un affichage plus clair.  \n",
    "   - **`fontsize=8`** : Définit la taille de la police pour améliorer la lisibilité du texte dans l’arbre.  \n",
    "\n",
    "3. **`plt.title(\"Visualisation de l'Arbre de Décision\")`**  \n",
    "   - Ajoute un titre au graphique pour contextualiser la visualisation.  \n",
    "\n",
    "4. **`plt.show()`**  \n",
    "   - Affiche l’arbre de décision.  \n",
    "\n",
    "---\n",
    "\n",
    "### **Interprétation du graphique**\n",
    "- Chaque **nœud** de l’arbre représente une décision basée sur une caractéristique.  \n",
    "- La **condition affichée** (ex : `Sepal Length <= 5.45`) montre comment les données sont séparées à ce niveau.  \n",
    "- Chaque **feuille** correspond à une classe prédite.  \n",
    "- L’**intensité de la couleur** reflète la pureté du nœud (si toutes les données appartiennent à une seule classe, la couleur est plus intense).  "
   ]
  },
  {
   "cell_type": "code",
   "id": "959c63b4",
   "metadata": {
    "ExecuteTime": {
     "end_time": "2025-02-19T16:58:06.630413Z",
     "start_time": "2025-02-19T16:58:06.357339Z"
    }
   },
   "source": [
    "# Visualisation de l'arbre de décision\n",
    "plt.figure(figsize=(12, 8))\n",
    "plot_tree(dtree, filled=True, feature_names=['Sepal Length', 'Sepal Width'], class_names=iris.target_names, rounded=True, fontsize=8)\n",
    "plt.title(\"Visualisation de l'Arbre de Décision\")\n",
    "plt.show()"
   ],
   "outputs": [
    {
     "data": {
      "text/plain": [
       "<Figure size 1200x800 with 1 Axes>"
      ],
      "image/png": "[encoded data removed]"
     },
     "metadata": {},
     "output_type": "display_data"
    }
   ],
   "execution_count": 13
  },
  {
   "cell_type": "markdown",
   "id": "1c4070e0",
   "metadata": {},
   "source": [
    "## Extraction des règles de l'arbre de décision"
   ]
  },
  {
   "cell_type": "markdown",
   "id": "f40e6dcc",
   "metadata": {},
   "source": [
    "Nous pouvons également afficher les règles de décision de l'arbre sous forme de texte. \n",
    "\n",
    "Ces règles montrent comment le modèle prend ses décisions pour classer un échantillon.\n",
    "\n",
    "---\n",
    "\n",
    "### **Extraction des règles de l'arbre de décision**\n",
    "1. **`tree_rules = export_text(dtree, feature_names=['Sepal Length', 'Sepal Width'])`**  \n",
    "   - **Objectif** : Extraire les règles de l’arbre sous forme de texte lisible.  \n",
    "   - **`export_text(dtree)`** : Convertit l’arbre de décision en une série de règles conditionnelles.  \n",
    "   - **`feature_names=['Sepal Length', 'Sepal Width']`** : Remplace les indices des colonnes par les noms des caractéristiques utilisées pour la classification.  \n",
    "\n",
    "   **Exemple de sortie :**  \n",
    "   ```\n",
    "   |--- Sepal Length <= 5.45\n",
    "   |   |--- Sepal Width <= 2.75\n",
    "   |   |   |--- class: Versicolor\n",
    "   |   |--- Sepal Width >  2.75\n",
    "   |   |   |--- class: Setosa\n",
    "   |--- Sepal Length >  5.45\n",
    "   |   |--- class: Virginica\n",
    "   ```\n",
    "\n",
    "   - Chaque **nœud** représente une décision.  \n",
    "   - Chaque **feuille** (`class: X`) correspond à une classification finale.  \n",
    "   - Les **indentations** représentent la profondeur dans l’arbre.  \n",
    "\n",
    "2. **`print('Règles de l\\'Arbre de Décision:\\n', tree_rules)`**  \n",
    "   - Affiche les règles extraites de l’arbre.  \n",
    "   - `\\n` permet d’ajouter un retour à la ligne pour une meilleure lisibilité.  \n",
    "\n",
    "---\n",
    "\n",
    "### **Pourquoi extraire les règles ?**\n",
    "- Permet de **comprendre comment l’algorithme prend ses décisions**.  \n",
    "- Aide à **interpréter le modèle**, notamment pour vérifier s’il prend en compte les bons critères.  \n",
    "- Utile en **explicabilité de l’IA**, surtout dans des domaines où les décisions doivent être justifiées.  "
   ]
  },
  {
   "cell_type": "code",
   "id": "3fa771ad",
   "metadata": {
    "ExecuteTime": {
     "end_time": "2025-02-19T16:58:08.053802Z",
     "start_time": "2025-02-19T16:58:08.050908Z"
    }
   },
   "source": [
    "tree_rules = export_text(dtree, feature_names=['Sepal Length', 'Sepal Width'])\n",
    "print('Règles de l\\'Arbre de Décision:\\n', tree_rules)"
   ],
   "outputs": [
    {
     "name": "stdout",
     "output_type": "stream",
     "text": [
      "Règles de l'Arbre de Décision:\n",
      " |--- Sepal Length <= -0.47\n",
      "|   |--- Sepal Width <= -0.50\n",
      "|   |   |--- Sepal Length <= -1.38\n",
      "|   |   |   |--- class: 0\n",
      "|   |   |--- Sepal Length >  -1.38\n",
      "|   |   |   |--- class: 1\n",
      "|   |--- Sepal Width >  -0.50\n",
      "|   |   |--- Sepal Length <= -0.59\n",
      "|   |   |   |--- class: 0\n",
      "|   |   |--- Sepal Length >  -0.59\n",
      "|   |   |   |--- class: 0\n",
      "|--- Sepal Length >  -0.47\n",
      "|   |--- Sepal Length <= 0.37\n",
      "|   |   |--- Sepal Width <= 1.42\n",
      "|   |   |   |--- class: 1\n",
      "|   |   |--- Sepal Width >  1.42\n",
      "|   |   |   |--- class: 0\n",
      "|   |--- Sepal Length >  0.37\n",
      "|   |   |--- Sepal Width <= -0.98\n",
      "|   |   |   |--- class: 1\n",
      "|   |   |--- Sepal Width >  -0.98\n",
      "|   |   |   |--- class: 2\n",
      "\n"
     ]
    }
   ],
   "execution_count": 14
  },
  {
   "cell_type": "code",
   "id": "fd0adb52",
   "metadata": {
    "ExecuteTime": {
     "end_time": "2025-02-19T16:58:08.418839Z",
     "start_time": "2025-02-19T16:58:08.415516Z"
    }
   },
   "source": [
    "type(tree_rules)"
   ],
   "outputs": [
    {
     "data": {
      "text/plain": [
       "str"
      ]
     },
     "execution_count": 15,
     "metadata": {},
     "output_type": "execute_result"
    }
   ],
   "execution_count": 15
  },
  {
   "cell_type": "markdown",
   "id": "5a19ba93",
   "metadata": {},
   "source": [
    "## Prédiction sur de nouveaux échantillons"
   ]
  },
  {
   "cell_type": "markdown",
   "id": "bd3b301f",
   "metadata": {},
   "source": [
    "Nous testons notre modèle sur de nouveaux échantillons, dont nous connaissons la longueur et la largeur des sépales, pour voir quelle classe il prédit.\n",
    "\n",
    "Ajoute cette explication avant la cellule contenant ce code :\n",
    "\n",
    "### **Prédiction sur de nouveaux échantillons**  \n",
    "\n",
    "1. **`new_samples = np.array([[5.1, 3.5], [6.2, 2.9], [7.3, 2.8]])`**  \n",
    "   - Définit un tableau NumPy contenant trois nouveaux échantillons.  \n",
    "   - Chaque échantillon est défini par deux caractéristiques :  \n",
    "     - **Première colonne** → Longueur du sépale (*Sepal Length*).  \n",
    "     - **Deuxième colonne** → Largeur du sépale (*Sepal Width*).  \n",
    "   - **Shape du tableau** : `(3, 2)` → 3 échantillons avec 2 features chacun.  \n",
    "\n",
    "   **Exemple des nouvelles données :**  \n",
    "   | Sepal Length | Sepal Width |  \n",
    "   |-------------|-------------|  \n",
    "   | 5.1         | 3.5         |  \n",
    "   | 6.2         | 2.9         |  \n",
    "   | 7.3         | 2.8         |  \n",
    "\n",
    "---\n",
    "\n",
    "2. **`predicted_classes = dtree.predict(new_samples)`**  \n",
    "   - Utilise l’arbre de décision (`dtree`) pour prédire la classe de chaque échantillon.  \n",
    "   - **Fonctionnement** :  \n",
    "     - Chaque échantillon est passé dans l’arbre de décision, qui suit ses règles pour aboutir à une classification.  \n",
    "   - **Résultat** :  \n",
    "     - `predicted_classes` est un tableau contenant les labels (`0`, `1` ou `2`) correspondant aux classes prédites.  \n",
    "   - **Shape du tableau** : `(3,)`, car il contient une seule valeur (classe prédite) par échantillon.  \n",
    "\n",
    "---\n",
    "\n",
    "3. **`print(f'Classes prédites pour les nouveaux échantillons: {predicted_classes}')`**  \n",
    "   - Affiche les classes prédites sous forme de texte.  \n",
    "   - **Exemple de sortie :**  \n",
    "     ```\n",
    "     Classes prédites pour les nouveaux échantillons: [0 2 2]\n",
    "     ```\n",
    "   - **Interprétation** :  \n",
    "     - Le premier échantillon (`[5.1, 3.5]`) est classé comme `0` (*Setosa*).  \n",
    "     - Les deux autres (`[6.2, 2.9]` et `[7.3, 2.8]`) sont classés comme `2` (*Virginica*).  \n",
    "\n",
    "---\n",
    "\n",
    "### **Pourquoi tester sur de nouveaux échantillons ?**\n",
    "- Vérifie si le modèle peut **généraliser** à des données qu’il n’a pas vues lors de l'entraînement.  \n",
    "- Permet d’obtenir **des prédictions en conditions réelles**, en dehors du dataset d'origine.  "
   ]
  },
  {
   "cell_type": "code",
   "id": "de2994fc",
   "metadata": {
    "ExecuteTime": {
     "end_time": "2025-02-19T16:58:10.383011Z",
     "start_time": "2025-02-19T16:58:10.380448Z"
    }
   },
   "source": [
    "new_samples = np.array([[5.1, 3.5], [6.2, 2.9], [7.3, 2.8]])\n",
    "predicted_classes = dtree.predict(new_samples)\n",
    "print(f'Classes prédites pour les nouveaux échantillons: {predicted_classes}')"
   ],
   "outputs": [
    {
     "name": "stdout",
     "output_type": "stream",
     "text": [
      "Classes prédites pour les nouveaux échantillons: [2 2 2]\n"
     ]
    }
   ],
   "execution_count": 16
  },
  {
   "cell_type": "code",
   "id": "d414a7f8",
   "metadata": {
    "ExecuteTime": {
     "end_time": "2025-02-19T16:58:10.978820Z",
     "start_time": "2025-02-19T16:58:10.976431Z"
    }
   },
   "source": [
    "new_samples.shape"
   ],
   "outputs": [
    {
     "data": {
      "text/plain": [
       "(3, 2)"
      ]
     },
     "execution_count": 17,
     "metadata": {},
     "output_type": "execute_result"
    }
   ],
   "execution_count": 17
  },
  {
   "cell_type": "code",
   "id": "02c62533",
   "metadata": {
    "ExecuteTime": {
     "end_time": "2025-02-19T16:58:11.505778Z",
     "start_time": "2025-02-19T16:58:11.503510Z"
    }
   },
   "source": [
    "predicted_classes.shape"
   ],
   "outputs": [
    {
     "data": {
      "text/plain": [
       "(3,)"
      ]
     },
     "execution_count": 18,
     "metadata": {},
     "output_type": "execute_result"
    }
   ],
   "execution_count": 18
  },
  {
   "cell_type": "markdown",
   "id": "6d063697",
   "metadata": {},
   "source": [
    "# Régression linéaire\n",
    "\n",
    "## Régression linéaire avec le dataset Diabetes\n",
    "\n",
    "Passons maintenant à la régression avec le dataset Diabetes. \n",
    "\n",
    "Ce jeu de données contient des mesures médicales et un score indiquant la progression de la maladie. \n",
    "\n",
    "Nous allons utiliser une seule variable (``feature 2``) pour prédire ce score.\n",
    "\n",
    "Ajoute cette explication avant la cellule contenant ce code :\n",
    "\n",
    "---\n",
    "\n",
    "### **Chargement du dataset Diabetes et sélection d’une feature**  \n",
    "\n",
    "1. **`diabetes = datasets.load_diabetes()`**  \n",
    "   - Charge le dataset *Diabetes* inclus dans `scikit-learn`.  \n",
    "   - Ce dataset est utilisé pour des tâches de **régression**, car la variable cible est une valeur continue (progression de la maladie).  \n",
    "   - `diabetes` est un objet de type `Bunch`, similaire à un dictionnaire, contenant :  \n",
    "     - `diabetes.data` : Matrice des caractéristiques (*features*).  \n",
    "     - `diabetes.target` : Vecteur des valeurs cibles (*target*).  \n",
    "     - `diabetes.feature_names` : Liste des noms des features.  \n",
    "\n",
    "---\n",
    "\n",
    "2. **`X = diabetes['data']`**  \n",
    "   - Extrait les **caractéristiques** des patients.  \n",
    "   - `X` est une matrice NumPy de **shape `(442, 10)`**, où :  \n",
    "     - 442 → Nombre d’échantillons (patients).  \n",
    "     - 10 → Nombre de caractéristiques (ex : IMC, pression sanguine, taux de glucose, etc.).  \n",
    "\n",
    "   **Exemple des features dans `X` :**  \n",
    "   | Age | Sex | BMI | BP | S1 | S2 | S3 | S4 | S5 | S6 |  \n",
    "   |-----|-----|-----|----|----|----|----|----|----|----|  \n",
    "\n",
    "---\n",
    "\n",
    "3. **`y = diabetes['target']`**  \n",
    "   - Extrait la **variable cible** (progression de la maladie).  \n",
    "   - `y` est un tableau NumPy de **shape `(442,)`**, contenant les scores mesurant la progression de la maladie.  \n",
    "   - Ces scores sont des valeurs continues (pas des classes), ce qui justifie l'utilisation de la **régression** au lieu de la classification.  \n",
    "\n",
    "---\n",
    "\n",
    "4. **`X_selected = X[:, 2]`**  \n",
    "   - Sélectionne **uniquement la 3ᵉ colonne** (indice `2`) de `X`, qui correspond au **BMI (indice de masse corporelle)**.  \n",
    "   - `X_selected` est un tableau NumPy de **shape `(442,)`**, contenant une seule feature par échantillon.  \n",
    "   - La régression linéaire sera donc basée uniquement sur l’indice de masse corporelle pour prédire la progression de la maladie.  \n",
    "\n",
    "   **Pourquoi cette sélection ?**  \n",
    "   - Cela permet de **visualiser la relation entre une seule variable et la progression de la maladie**.  \n",
    "   - Réduire le nombre de dimensions facilite l’interprétation et la visualisation sous forme de droite de régression.  \n",
    "\n",
    "---\n",
    "\n",
    "### **Résumé**\n",
    "- On charge les données (`X`) et les labels (`y`).  \n",
    "- On sélectionne une seule feature (`X[:, 2]`, le BMI) pour une **régression simple**.  "
   ]
  },
  {
   "cell_type": "code",
   "id": "1c0e6ba8",
   "metadata": {
    "ExecuteTime": {
     "end_time": "2025-02-19T16:58:12.940305Z",
     "start_time": "2025-02-19T16:58:12.936895Z"
    }
   },
   "source": [
    "diabetes = datasets.load_diabetes()\n",
    "X = diabetes['data']\n",
    "y = diabetes['target']\n",
    "X_selected = X[:, 2]"
   ],
   "outputs": [],
   "execution_count": 19
  },
  {
   "cell_type": "code",
   "id": "3c9207db",
   "metadata": {
    "ExecuteTime": {
     "end_time": "2025-02-19T16:58:13.441604Z",
     "start_time": "2025-02-19T16:58:13.439267Z"
    }
   },
   "source": [
    "diabetes['data'].shape"
   ],
   "outputs": [
    {
     "data": {
      "text/plain": [
       "(442, 10)"
      ]
     },
     "execution_count": 20,
     "metadata": {},
     "output_type": "execute_result"
    }
   ],
   "execution_count": 20
  },
  {
   "cell_type": "code",
   "id": "f31ae95a",
   "metadata": {
    "ExecuteTime": {
     "end_time": "2025-02-19T16:58:13.754965Z",
     "start_time": "2025-02-19T16:58:13.752372Z"
    }
   },
   "source": [
    "diabetes['target'].shape"
   ],
   "outputs": [
    {
     "data": {
      "text/plain": [
       "(442,)"
      ]
     },
     "execution_count": 21,
     "metadata": {},
     "output_type": "execute_result"
    }
   ],
   "execution_count": 21
  },
  {
   "cell_type": "code",
   "id": "c3e6a602",
   "metadata": {
    "ExecuteTime": {
     "end_time": "2025-02-19T16:58:14.105172Z",
     "start_time": "2025-02-19T16:58:14.102957Z"
    }
   },
   "source": [
    "diabetes.feature_names"
   ],
   "outputs": [
    {
     "data": {
      "text/plain": [
       "['age', 'sex', 'bmi', 'bp', 's1', 's2', 's3', 's4', 's5', 's6']"
      ]
     },
     "execution_count": 22,
     "metadata": {},
     "output_type": "execute_result"
    }
   ],
   "execution_count": 22
  },
  {
   "cell_type": "code",
   "id": "3126c256",
   "metadata": {
    "ExecuteTime": {
     "end_time": "2025-02-19T16:58:14.433612Z",
     "start_time": "2025-02-19T16:58:14.431531Z"
    }
   },
   "source": [
    "X_selected.shape"
   ],
   "outputs": [
    {
     "data": {
      "text/plain": [
       "(442,)"
      ]
     },
     "execution_count": 23,
     "metadata": {},
     "output_type": "execute_result"
    }
   ],
   "execution_count": 23
  },
  {
   "cell_type": "markdown",
   "id": "a3dd24ec",
   "metadata": {},
   "source": [
    "## Séparation des données et entraînement du modèle de régression\n",
    "\n",
    "Comme pour la classification, nous divisons les données en un jeu d'entraînement et un jeu de test. \n",
    "\n",
    "Cela permet d'évaluer la performance du modèle de régression sur des données inconnues.\n",
    "\n",
    "Ajoute cette explication avant la cellule contenant ce code :\n",
    "\n",
    "---\n",
    "\n",
    "### **Séparation des données en jeu d’entraînement et de test**  \n",
    "\n",
    "1. **`X_train, X_test, y_train, y_test = train_test_split(X_selected, y, test_size=0.2, random_state=42)`**  \n",
    "   - Cette ligne divise les données en deux ensembles :  \n",
    "     - **Jeu d'entraînement (`X_train`, `y_train`)** : utilisé pour entraîner le modèle.  \n",
    "     - **Jeu de test (`X_test`, `y_test`)** : utilisé pour évaluer les performances du modèle sur des données qu’il n’a jamais vues.  \n",
    "\n",
    "   **Explication des paramètres :**  \n",
    "   - **`X_selected`** : Feature sélectionnée (`BMI`) utilisée comme variable explicative.  \n",
    "   - **`y`** : Valeur cible représentant la progression de la maladie.  \n",
    "   - **`test_size=0.2`** : 20% des données sont utilisées pour le test, 80% pour l'entraînement.  \n",
    "   - **`random_state=42`** : Fixe une graine aléatoire pour assurer la reproductibilité des résultats (chaque exécution produira la même division des données).  \n",
    "\n",
    "   **Résultat :**  \n",
    "   - `X_train.shape` → `(353,)`, contient 353 valeurs de BMI pour l'entraînement.  \n",
    "   - `X_test.shape` → `(89,)`, contient 89 valeurs de BMI pour le test.  \n",
    "   - `y_train.shape` → `(353,)`, contient les scores de progression de la maladie pour l'entraînement.  \n",
    "   - `y_test.shape` → `(89,)`, contient les scores de progression de la maladie pour le test.  \n",
    "\n",
    "---\n",
    "\n",
    "### **Pourquoi séparer les données ?**\n",
    "- Éviter le **surapprentissage** (*overfitting*) :  \n",
    "  - Si on entraîne le modèle sur **toutes** les données, il pourrait simplement mémoriser les valeurs au lieu d’apprendre une vraie relation entre le BMI et la progression de la maladie.  \n",
    "- Tester la **généralisation** du modèle :  \n",
    "  - Un modèle performant doit donner des **prédictions précises sur des données inédites**, et non seulement sur celles utilisées pour l’entraînement.  "
   ]
  },
  {
   "cell_type": "code",
   "id": "2f3e7b1b",
   "metadata": {
    "ExecuteTime": {
     "end_time": "2025-02-19T16:58:15.706393Z",
     "start_time": "2025-02-19T16:58:15.703830Z"
    }
   },
   "source": [
    "X_train, X_test, y_train, y_test = train_test_split(X_selected, y, test_size=0.2, random_state=42)"
   ],
   "outputs": [],
   "execution_count": 24
  },
  {
   "cell_type": "code",
   "id": "14da1c7e",
   "metadata": {
    "ExecuteTime": {
     "end_time": "2025-02-19T16:58:16.079160Z",
     "start_time": "2025-02-19T16:58:16.076628Z"
    }
   },
   "source": [
    "X_train.shape"
   ],
   "outputs": [
    {
     "data": {
      "text/plain": [
       "(353,)"
      ]
     },
     "execution_count": 25,
     "metadata": {},
     "output_type": "execute_result"
    }
   ],
   "execution_count": 25
  },
  {
   "cell_type": "code",
   "id": "5c4a87fa",
   "metadata": {
    "ExecuteTime": {
     "end_time": "2025-02-19T16:58:16.494414Z",
     "start_time": "2025-02-19T16:58:16.491980Z"
    }
   },
   "source": [
    "X_test.shape"
   ],
   "outputs": [
    {
     "data": {
      "text/plain": [
       "(89,)"
      ]
     },
     "execution_count": 26,
     "metadata": {},
     "output_type": "execute_result"
    }
   ],
   "execution_count": 26
  },
  {
   "cell_type": "code",
   "id": "e0f6d9f6",
   "metadata": {
    "ExecuteTime": {
     "end_time": "2025-02-19T16:58:16.840314Z",
     "start_time": "2025-02-19T16:58:16.838011Z"
    }
   },
   "source": [
    "y_train.shape"
   ],
   "outputs": [
    {
     "data": {
      "text/plain": [
       "(353,)"
      ]
     },
     "execution_count": 27,
     "metadata": {},
     "output_type": "execute_result"
    }
   ],
   "execution_count": 27
  },
  {
   "cell_type": "code",
   "id": "be86d65a",
   "metadata": {
    "ExecuteTime": {
     "end_time": "2025-02-19T16:58:17.342125Z",
     "start_time": "2025-02-19T16:58:17.339040Z"
    }
   },
   "source": [
    "y_test.shape"
   ],
   "outputs": [
    {
     "data": {
      "text/plain": [
       "(89,)"
      ]
     },
     "execution_count": 28,
     "metadata": {},
     "output_type": "execute_result"
    }
   ],
   "execution_count": 28
  },
  {
   "cell_type": "markdown",
   "id": "1419713f",
   "metadata": {},
   "source": [
    "## Entraînement du modèle\n",
    "\n",
    "Nous entraînons une régression linéaire pour prédire la progression de la maladie en fonction d'une seule variable. \n",
    "\n",
    "Le modèle ajustera une droite pour minimiser l'erreur entre les prédictions et les valeurs réelles.\n",
    "Ajoute cette explication avant la cellule contenant ce code :\n",
    "\n",
    "---\n",
    "\n",
    "### **Création et entraînement du modèle de régression linéaire**  \n",
    "\n",
    "1. **`regression_model = LinearRegression()`**  \n",
    "   - Crée un modèle de **régression linéaire** en utilisant la classe `LinearRegression` de `scikit-learn`.  \n",
    "   - La régression linéaire cherche à ajuster une **droite** de la forme :  \n",
    "     \\[\n",
    "     y = aX + b\n",
    "     \\]\n",
    "     où :  \n",
    "     - \\( X \\) est la variable explicative (*BMI* dans notre cas).  \n",
    "     - \\( y \\) est la variable cible (*progression de la maladie*).  \n",
    "     - \\( a \\) est le **coefficient** (pente de la droite).  \n",
    "     - \\( b \\) est l’**ordonnée à l'origine** (valeur de \\( y \\) lorsque \\( X = 0 \\)).  \n",
    "\n",
    "---\n",
    "\n",
    "2. **`regression_model.fit(X_train.reshape(-1, 1), y_train)`**  \n",
    "   - Entraîne le modèle en ajustant une **droite de régression** aux données d'entraînement.  \n",
    "   - **Pourquoi `X_train.reshape(-1, 1)` ?**  \n",
    "     - `X_train` est initialement un **tableau 1D de shape `(353,)`** (car on utilise une seule feature).  \n",
    "     - `reshape(-1, 1)` convertit `X_train` en une **matrice 2D de shape `(353, 1)`**, car `scikit-learn` attend une entrée **matricielle** pour les features.  \n",
    "   - L'algorithme de régression linéaire **apprend les coefficients** \\( a \\) et \\( b \\) qui minimisent l'erreur entre les prédictions et les vraies valeurs `y_train`.  \n",
    "\n",
    "---\n",
    "\n",
    "### **Ce que fait cette ligne en pratique :**\n",
    "- Calcule la pente \\( a \\) et l'ordonnée à l'origine \\( b \\) de la droite de régression.  \n",
    "- Trouve la meilleure droite qui minimise la **somme des erreurs quadratiques** entre les prédictions et les vraies valeurs.  \n",
    "- Une fois entraîné, le modèle peut **prédire la progression de la maladie en fonction du BMI**.  \n",
    "\n",
    "---\n",
    "\n",
    "### **Pourquoi utiliser une régression linéaire ici ?**\n",
    "- Permet de **modéliser une relation simple** entre une variable explicative (`BMI`) et une variable cible (*progression de la maladie*).  \n",
    "- Facile à **interpréter** : on peut analyser directement l'effet du BMI sur la maladie via la pente \\( a \\).  "
   ]
  },
  {
   "cell_type": "code",
   "id": "f0c3dbba",
   "metadata": {
    "ExecuteTime": {
     "end_time": "2025-02-19T16:58:18.571902Z",
     "start_time": "2025-02-19T16:58:18.567994Z"
    }
   },
   "source": [
    "regression_model = LinearRegression()\n",
    "regression_model.fit(X_train.reshape(-1, 1), y_train)"
   ],
   "outputs": [
    {
     "data": {
      "text/plain": [
       "LinearRegression()"
      ],
      "text/html": [
       "<style>#sk-container-id-2 {\n",
       "  /* Definition of color scheme common for light and dark mode */\n",
       "  --sklearn-color-text: #000;\n",
       "  --sklearn-color-text-muted: #666;\n",
       "  --sklearn-color-line: gray;\n",
       "  /* Definition of color scheme for unfitted estimators */\n",
       "  --sklearn-color-unfitted-level-0: #fff5e6;\n",
       "  --sklearn-color-unfitted-level-1: #f6e4d2;\n",
       "  --sklearn-color-unfitted-level-2: #ffe0b3;\n",
       "  --sklearn-color-unfitted-level-3: chocolate;\n",
       "  /* Definition of color scheme for fitted estimators */\n",
       "  --sklearn-color-fitted-level-0: #f0f8ff;\n",
       "  --sklearn-color-fitted-level-1: #d4ebff;\n",
       "  --sklearn-color-fitted-level-2: #b3dbfd;\n",
       "  --sklearn-color-fitted-level-3: cornflowerblue;\n",
       "\n",
       "  /* Specific color for light theme */\n",
       "  --sklearn-color-text-on-default-background: var(--sg-text-color, var(--theme-code-foreground, var(--jp-content-font-color1, black)));\n",
       "  --sklearn-color-background: var(--sg-background-color, var(--theme-background, var(--jp-layout-color0, white)));\n",
       "  --sklearn-color-border-box: var(--sg-text-color, var(--theme-code-foreground, var(--jp-content-font-color1, black)));\n",
       "  --sklearn-color-icon: #696969;\n",
       "\n",
       "  @media (prefers-color-scheme: dark) {\n",
       "    /* Redefinition of color scheme for dark theme */\n",
       "    --sklearn-color-text-on-default-background: var(--sg-text-color, var(--theme-code-foreground, var(--jp-content-font-color1, white)));\n",
       "    --sklearn-color-background: var(--sg-background-color, var(--theme-background, var(--jp-layout-color0, #111)));\n",
       "    --sklearn-color-border-box: var(--sg-text-color, var(--theme-code-foreground, var(--jp-content-font-color1, white)));\n",
       "    --sklearn-color-icon: #878787;\n",
       "  }\n",
       "}\n",
       "\n",
       "#sk-container-id-2 {\n",
       "  color: var(--sklearn-color-text);\n",
       "}\n",
       "\n",
       "#sk-container-id-2 pre {\n",
       "  padding: 0;\n",
       "}\n",
       "\n",
       "#sk-container-id-2 input.sk-hidden--visually {\n",
       "  border: 0;\n",
       "  clip: rect(1px 1px 1px 1px);\n",
       "  clip: rect(1px, 1px, 1px, 1px);\n",
       "  height: 1px;\n",
       "  margin: -1px;\n",
       "  overflow: hidden;\n",
       "  padding: 0;\n",
       "  position: absolute;\n",
       "  width: 1px;\n",
       "}\n",
       "\n",
       "#sk-container-id-2 div.sk-dashed-wrapped {\n",
       "  border: 1px dashed var(--sklearn-color-line);\n",
       "  margin: 0 0.4em 0.5em 0.4em;\n",
       "  box-sizing: border-box;\n",
       "  padding-bottom: 0.4em;\n",
       "  background-color: var(--sklearn-color-background);\n",
       "}\n",
       "\n",
       "#sk-container-id-2 div.sk-container {\n",
       "  /* jupyter's `normalize.less` sets `[hidden] { display: none; }`\n",
       "     but bootstrap.min.css set `[hidden] { display: none !important; }`\n",
       "     so we also need the `!important` here to be able to override the\n",
       "     default hidden behavior on the sphinx rendered scikit-learn.org.\n",
       "     See: https://github.com/scikit-learn/scikit-learn/issues/21755 */\n",
       "  display: inline-block !important;\n",
       "  position: relative;\n",
       "}\n",
       "\n",
       "#sk-container-id-2 div.sk-text-repr-fallback {\n",
       "  display: none;\n",
       "}\n",
       "\n",
       "div.sk-parallel-item,\n",
       "div.sk-serial,\n",
       "div.sk-item {\n",
       "  /* draw centered vertical line to link estimators */\n",
       "  background-image: linear-gradient(var(--sklearn-color-text-on-default-background), var(--sklearn-color-text-on-default-background));\n",
       "  background-size: 2px 100%;\n",
       "  background-repeat: no-repeat;\n",
       "  background-position: center center;\n",
       "}\n",
       "\n",
       "/* Parallel-specific style estimator block */\n",
       "\n",
       "#sk-container-id-2 div.sk-parallel-item::after {\n",
       "  content: \"\";\n",
       "  width: 100%;\n",
       "  border-bottom: 2px solid var(--sklearn-color-text-on-default-background);\n",
       "  flex-grow: 1;\n",
       "}\n",
       "\n",
       "#sk-container-id-2 div.sk-parallel {\n",
       "  display: flex;\n",
       "  align-items: stretch;\n",
       "  justify-content: center;\n",
       "  background-color: var(--sklearn-color-background);\n",
       "  position: relative;\n",
       "}\n",
       "\n",
       "#sk-container-id-2 div.sk-parallel-item {\n",
       "  display: flex;\n",
       "  flex-direction: column;\n",
       "}\n",
       "\n",
       "#sk-container-id-2 div.sk-parallel-item:first-child::after {\n",
       "  align-self: flex-end;\n",
       "  width: 50%;\n",
       "}\n",
       "\n",
       "#sk-container-id-2 div.sk-parallel-item:last-child::after {\n",
       "  align-self: flex-start;\n",
       "  width: 50%;\n",
       "}\n",
       "\n",
       "#sk-container-id-2 div.sk-parallel-item:only-child::after {\n",
       "  width: 0;\n",
       "}\n",
       "\n",
       "/* Serial-specific style estimator block */\n",
       "\n",
       "#sk-container-id-2 div.sk-serial {\n",
       "  display: flex;\n",
       "  flex-direction: column;\n",
       "  align-items: center;\n",
       "  background-color: var(--sklearn-color-background);\n",
       "  padding-right: 1em;\n",
       "  padding-left: 1em;\n",
       "}\n",
       "\n",
       "\n",
       "/* Toggleable style: style used for estimator/Pipeline/ColumnTransformer box that is\n",
       "clickable and can be expanded/collapsed.\n",
       "- Pipeline and ColumnTransformer use this feature and define the default style\n",
       "- Estimators will overwrite some part of the style using the `sk-estimator` class\n",
       "*/\n",
       "\n",
       "/* Pipeline and ColumnTransformer style (default) */\n",
       "\n",
       "#sk-container-id-2 div.sk-toggleable {\n",
       "  /* Default theme specific background. It is overwritten whether we have a\n",
       "  specific estimator or a Pipeline/ColumnTransformer */\n",
       "  background-color: var(--sklearn-color-background);\n",
       "}\n",
       "\n",
       "/* Toggleable label */\n",
       "#sk-container-id-2 label.sk-toggleable__label {\n",
       "  cursor: pointer;\n",
       "  display: flex;\n",
       "  width: 100%;\n",
       "  margin-bottom: 0;\n",
       "  padding: 0.5em;\n",
       "  box-sizing: border-box;\n",
       "  text-align: center;\n",
       "  align-items: start;\n",
       "  justify-content: space-between;\n",
       "  gap: 0.5em;\n",
       "}\n",
       "\n",
       "#sk-container-id-2 label.sk-toggleable__label .caption {\n",
       "  font-size: 0.6rem;\n",
       "  font-weight: lighter;\n",
       "  color: var(--sklearn-color-text-muted);\n",
       "}\n",
       "\n",
       "#sk-container-id-2 label.sk-toggleable__label-arrow:before {\n",
       "  /* Arrow on the left of the label */\n",
       "  content: \"▸\";\n",
       "  float: left;\n",
       "  margin-right: 0.25em;\n",
       "  color: var(--sklearn-color-icon);\n",
       "}\n",
       "\n",
       "#sk-container-id-2 label.sk-toggleable__label-arrow:hover:before {\n",
       "  color: var(--sklearn-color-text);\n",
       "}\n",
       "\n",
       "/* Toggleable content - dropdown */\n",
       "\n",
       "#sk-container-id-2 div.sk-toggleable__content {\n",
       "  max-height: 0;\n",
       "  max-width: 0;\n",
       "  overflow: hidden;\n",
       "  text-align: left;\n",
       "  /* unfitted */\n",
       "  background-color: var(--sklearn-color-unfitted-level-0);\n",
       "}\n",
       "\n",
       "#sk-container-id-2 div.sk-toggleable__content.fitted {\n",
       "  /* fitted */\n",
       "  background-color: var(--sklearn-color-fitted-level-0);\n",
       "}\n",
       "\n",
       "#sk-container-id-2 div.sk-toggleable__content pre {\n",
       "  margin: 0.2em;\n",
       "  border-radius: 0.25em;\n",
       "  color: var(--sklearn-color-text);\n",
       "  /* unfitted */\n",
       "  background-color: var(--sklearn-color-unfitted-level-0);\n",
       "}\n",
       "\n",
       "#sk-container-id-2 div.sk-toggleable__content.fitted pre {\n",
       "  /* unfitted */\n",
       "  background-color: var(--sklearn-color-fitted-level-0);\n",
       "}\n",
       "\n",
       "#sk-container-id-2 input.sk-toggleable__control:checked~div.sk-toggleable__content {\n",
       "  /* Expand drop-down */\n",
       "  max-height: 200px;\n",
       "  max-width: 100%;\n",
       "  overflow: auto;\n",
       "}\n",
       "\n",
       "#sk-container-id-2 input.sk-toggleable__control:checked~label.sk-toggleable__label-arrow:before {\n",
       "  content: \"▾\";\n",
       "}\n",
       "\n",
       "/* Pipeline/ColumnTransformer-specific style */\n",
       "\n",
       "#sk-container-id-2 div.sk-label input.sk-toggleable__control:checked~label.sk-toggleable__label {\n",
       "  color: var(--sklearn-color-text);\n",
       "  background-color: var(--sklearn-color-unfitted-level-2);\n",
       "}\n",
       "\n",
       "#sk-container-id-2 div.sk-label.fitted input.sk-toggleable__control:checked~label.sk-toggleable__label {\n",
       "  background-color: var(--sklearn-color-fitted-level-2);\n",
       "}\n",
       "\n",
       "/* Estimator-specific style */\n",
       "\n",
       "/* Colorize estimator box */\n",
       "#sk-container-id-2 div.sk-estimator input.sk-toggleable__control:checked~label.sk-toggleable__label {\n",
       "  /* unfitted */\n",
       "  background-color: var(--sklearn-color-unfitted-level-2);\n",
       "}\n",
       "\n",
       "#sk-container-id-2 div.sk-estimator.fitted input.sk-toggleable__control:checked~label.sk-toggleable__label {\n",
       "  /* fitted */\n",
       "  background-color: var(--sklearn-color-fitted-level-2);\n",
       "}\n",
       "\n",
       "#sk-container-id-2 div.sk-label label.sk-toggleable__label,\n",
       "#sk-container-id-2 div.sk-label label {\n",
       "  /* The background is the default theme color */\n",
       "  color: var(--sklearn-color-text-on-default-background);\n",
       "}\n",
       "\n",
       "/* On hover, darken the color of the background */\n",
       "#sk-container-id-2 div.sk-label:hover label.sk-toggleable__label {\n",
       "  color: var(--sklearn-color-text);\n",
       "  background-color: var(--sklearn-color-unfitted-level-2);\n",
       "}\n",
       "\n",
       "/* Label box, darken color on hover, fitted */\n",
       "#sk-container-id-2 div.sk-label.fitted:hover label.sk-toggleable__label.fitted {\n",
       "  color: var(--sklearn-color-text);\n",
       "  background-color: var(--sklearn-color-fitted-level-2);\n",
       "}\n",
       "\n",
       "/* Estimator label */\n",
       "\n",
       "#sk-container-id-2 div.sk-label label {\n",
       "  font-family: monospace;\n",
       "  font-weight: bold;\n",
       "  display: inline-block;\n",
       "  line-height: 1.2em;\n",
       "}\n",
       "\n",
       "#sk-container-id-2 div.sk-label-container {\n",
       "  text-align: center;\n",
       "}\n",
       "\n",
       "/* Estimator-specific */\n",
       "#sk-container-id-2 div.sk-estimator {\n",
       "  font-family: monospace;\n",
       "  border: 1px dotted var(--sklearn-color-border-box);\n",
       "  border-radius: 0.25em;\n",
       "  box-sizing: border-box;\n",
       "  margin-bottom: 0.5em;\n",
       "  /* unfitted */\n",
       "  background-color: var(--sklearn-color-unfitted-level-0);\n",
       "}\n",
       "\n",
       "#sk-container-id-2 div.sk-estimator.fitted {\n",
       "  /* fitted */\n",
       "  background-color: var(--sklearn-color-fitted-level-0);\n",
       "}\n",
       "\n",
       "/* on hover */\n",
       "#sk-container-id-2 div.sk-estimator:hover {\n",
       "  /* unfitted */\n",
       "  background-color: var(--sklearn-color-unfitted-level-2);\n",
       "}\n",
       "\n",
       "#sk-container-id-2 div.sk-estimator.fitted:hover {\n",
       "  /* fitted */\n",
       "  background-color: var(--sklearn-color-fitted-level-2);\n",
       "}\n",
       "\n",
       "/* Specification for estimator info (e.g. \"i\" and \"?\") */\n",
       "\n",
       "/* Common style for \"i\" and \"?\" */\n",
       "\n",
       ".sk-estimator-doc-link,\n",
       "a:link.sk-estimator-doc-link,\n",
       "a:visited.sk-estimator-doc-link {\n",
       "  float: right;\n",
       "  font-size: smaller;\n",
       "  line-height: 1em;\n",
       "  font-family: monospace;\n",
       "  background-color: var(--sklearn-color-background);\n",
       "  border-radius: 1em;\n",
       "  height: 1em;\n",
       "  width: 1em;\n",
       "  text-decoration: none !important;\n",
       "  margin-left: 0.5em;\n",
       "  text-align: center;\n",
       "  /* unfitted */\n",
       "  border: var(--sklearn-color-unfitted-level-1) 1pt solid;\n",
       "  color: var(--sklearn-color-unfitted-level-1);\n",
       "}\n",
       "\n",
       ".sk-estimator-doc-link.fitted,\n",
       "a:link.sk-estimator-doc-link.fitted,\n",
       "a:visited.sk-estimator-doc-link.fitted {\n",
       "  /* fitted */\n",
       "  border: var(--sklearn-color-fitted-level-1) 1pt solid;\n",
       "  color: var(--sklearn-color-fitted-level-1);\n",
       "}\n",
       "\n",
       "/* On hover */\n",
       "div.sk-estimator:hover .sk-estimator-doc-link:hover,\n",
       ".sk-estimator-doc-link:hover,\n",
       "div.sk-label-container:hover .sk-estimator-doc-link:hover,\n",
       ".sk-estimator-doc-link:hover {\n",
       "  /* unfitted */\n",
       "  background-color: var(--sklearn-color-unfitted-level-3);\n",
       "  color: var(--sklearn-color-background);\n",
       "  text-decoration: none;\n",
       "}\n",
       "\n",
       "div.sk-estimator.fitted:hover .sk-estimator-doc-link.fitted:hover,\n",
       ".sk-estimator-doc-link.fitted:hover,\n",
       "div.sk-label-container:hover .sk-estimator-doc-link.fitted:hover,\n",
       ".sk-estimator-doc-link.fitted:hover {\n",
       "  /* fitted */\n",
       "  background-color: var(--sklearn-color-fitted-level-3);\n",
       "  color: var(--sklearn-color-background);\n",
       "  text-decoration: none;\n",
       "}\n",
       "\n",
       "/* Span, style for the box shown on hovering the info icon */\n",
       ".sk-estimator-doc-link span {\n",
       "  display: none;\n",
       "  z-index: 9999;\n",
       "  position: relative;\n",
       "  font-weight: normal;\n",
       "  right: .2ex;\n",
       "  padding: .5ex;\n",
       "  margin: .5ex;\n",
       "  width: min-content;\n",
       "  min-width: 20ex;\n",
       "  max-width: 50ex;\n",
       "  color: var(--sklearn-color-text);\n",
       "  box-shadow: 2pt 2pt 4pt #999;\n",
       "  /* unfitted */\n",
       "  background: var(--sklearn-color-unfitted-level-0);\n",
       "  border: .5pt solid var(--sklearn-color-unfitted-level-3);\n",
       "}\n",
       "\n",
       ".sk-estimator-doc-link.fitted span {\n",
       "  /* fitted */\n",
       "  background: var(--sklearn-color-fitted-level-0);\n",
       "  border: var(--sklearn-color-fitted-level-3);\n",
       "}\n",
       "\n",
       ".sk-estimator-doc-link:hover span {\n",
       "  display: block;\n",
       "}\n",
       "\n",
       "/* \"?\"-specific style due to the `<a>` HTML tag */\n",
       "\n",
       "#sk-container-id-2 a.estimator_doc_link {\n",
       "  float: right;\n",
       "  font-size: 1rem;\n",
       "  line-height: 1em;\n",
       "  font-family: monospace;\n",
       "  background-color: var(--sklearn-color-background);\n",
       "  border-radius: 1rem;\n",
       "  height: 1rem;\n",
       "  width: 1rem;\n",
       "  text-decoration: none;\n",
       "  /* unfitted */\n",
       "  color: var(--sklearn-color-unfitted-level-1);\n",
       "  border: var(--sklearn-color-unfitted-level-1) 1pt solid;\n",
       "}\n",
       "\n",
       "#sk-container-id-2 a.estimator_doc_link.fitted {\n",
       "  /* fitted */\n",
       "  border: var(--sklearn-color-fitted-level-1) 1pt solid;\n",
       "  color: var(--sklearn-color-fitted-level-1);\n",
       "}\n",
       "\n",
       "/* On hover */\n",
       "#sk-container-id-2 a.estimator_doc_link:hover {\n",
       "  /* unfitted */\n",
       "  background-color: var(--sklearn-color-unfitted-level-3);\n",
       "  color: var(--sklearn-color-background);\n",
       "  text-decoration: none;\n",
       "}\n",
       "\n",
       "#sk-container-id-2 a.estimator_doc_link.fitted:hover {\n",
       "  /* fitted */\n",
       "  background-color: var(--sklearn-color-fitted-level-3);\n",
       "}\n",
       "</style><div id=\"sk-container-id-2\" class=\"sk-top-container\"><div class=\"sk-text-repr-fallback\"><pre>LinearRegression()</pre><b>In a Jupyter environment, please rerun this cell to show the HTML representation or trust the notebook. <br />On GitHub, the HTML representation is unable to render, please try loading this page with nbviewer.org.</b></div><div class=\"sk-container\" hidden><div class=\"sk-item\"><div class=\"sk-estimator fitted sk-toggleable\"><input class=\"sk-toggleable__control sk-hidden--visually\" id=\"sk-estimator-id-2\" type=\"checkbox\" checked><label for=\"sk-estimator-id-2\" class=\"sk-toggleable__label fitted sk-toggleable__label-arrow\"><div><div>LinearRegression</div></div><div><a class=\"sk-estimator-doc-link fitted\" rel=\"noreferrer\" target=\"_blank\" href=\"https://scikit-learn.org/1.6/modules/generated/sklearn.linear_model.LinearRegression.html\">?<span>Documentation for LinearRegression</span></a><span class=\"sk-estimator-doc-link fitted\">i<span>Fitted</span></span></div></label><div class=\"sk-toggleable__content fitted\"><pre>LinearRegression()</pre></div> </div></div></div></div>"
      ]
     },
     "execution_count": 29,
     "metadata": {},
     "output_type": "execute_result"
    }
   ],
   "execution_count": 29
  },
  {
   "cell_type": "markdown",
   "id": "e0c526cf",
   "metadata": {},
   "source": [
    "## Évaluation du modèle de régression"
   ]
  },
  {
   "cell_type": "markdown",
   "id": "1d306574",
   "metadata": {},
   "source": [
    "Nous évaluons les performances du modèle avec deux métriques : \n",
    "\n",
    "* l'erreur quadratique moyenne (MSE), qui mesure la différence entre les valeurs prédites et réelles, \n",
    "* et le coefficient de détermination (R²), qui indique à quel point le modèle explique la variance des données."
   ]
  },
  {
   "cell_type": "code",
   "id": "b5451de1",
   "metadata": {
    "ExecuteTime": {
     "end_time": "2025-02-19T16:58:19.937594Z",
     "start_time": "2025-02-19T16:58:19.934674Z"
    }
   },
   "source": [
    "y_pred = regression_model.predict(X_test.reshape(-1, 1))\n",
    "mse = mean_squared_error(y_test, y_pred)\n",
    "r2 = r2_score(y_test, y_pred)\n",
    "print(f'Mean Squared Error (MSE): {mse:.2f}')\n",
    "print(f'R-squared (R2): {r2:.2f}')"
   ],
   "outputs": [
    {
     "name": "stdout",
     "output_type": "stream",
     "text": [
      "Mean Squared Error (MSE): 4061.83\n",
      "R-squared (R2): 0.23\n"
     ]
    }
   ],
   "execution_count": 30
  },
  {
   "cell_type": "code",
   "id": "9313f362",
   "metadata": {
    "ExecuteTime": {
     "end_time": "2025-02-19T16:58:20.474221Z",
     "start_time": "2025-02-19T16:58:20.472099Z"
    }
   },
   "source": [
    "y_pred.shape"
   ],
   "outputs": [
    {
     "data": {
      "text/plain": [
       "(89,)"
      ]
     },
     "execution_count": 31,
     "metadata": {},
     "output_type": "execute_result"
    }
   ],
   "execution_count": 31
  },
  {
   "cell_type": "code",
   "id": "b9bbff75",
   "metadata": {
    "ExecuteTime": {
     "end_time": "2025-02-19T16:58:21.014635Z",
     "start_time": "2025-02-19T16:58:21.012052Z"
    }
   },
   "source": [
    "mse"
   ],
   "outputs": [
    {
     "data": {
      "text/plain": [
       "4061.8259284949268"
      ]
     },
     "execution_count": 32,
     "metadata": {},
     "output_type": "execute_result"
    }
   ],
   "execution_count": 32
  },
  {
   "cell_type": "code",
   "id": "801e2661",
   "metadata": {
    "ExecuteTime": {
     "end_time": "2025-02-19T16:58:21.237640Z",
     "start_time": "2025-02-19T16:58:21.235357Z"
    }
   },
   "source": [
    "r2"
   ],
   "outputs": [
    {
     "data": {
      "text/plain": [
       "0.23335039815872138"
      ]
     },
     "execution_count": 33,
     "metadata": {},
     "output_type": "execute_result"
    }
   ],
   "execution_count": 33
  },
  {
   "cell_type": "markdown",
   "id": "c58fe6e5",
   "metadata": {},
   "source": [
    "## Visualisation de la régression linéaire\n",
    "\n",
    "Nous représentons graphiquement la régression linéaire en traçant la droite ajustée aux données. \n",
    "\n",
    "Les points bleus et rouges représentent respectivement les échantillons d'entraînement et de test.\n",
    "\n",
    "### **Visualisation de la régression linéaire**  \n",
    "\n",
    "1. **`plt.figure(figsize=(8, 6))`**  \n",
    "   - Crée une nouvelle figure de taille **8x6** pouces pour afficher le graphique.  \n",
    "   - Cela permet d'obtenir une visualisation plus lisible.  \n",
    "\n",
    "---\n",
    "\n",
    "2. **`plt.scatter(X_train, y_train, color='blue', label='Données d\\'entraînement')`**  \n",
    "   - Affiche les **données d'entraînement** sous forme de nuage de points.  \n",
    "   - **`X_train`** : Valeurs de la caractéristique sélectionnée (BMI).  \n",
    "   - **`y_train`** : Valeurs cibles (progression de la maladie).  \n",
    "   - **`color='blue'`** : Les points sont affichés en bleu.  \n",
    "   - **`label='Données d\\'entraînement'`** : Ajoute une légende pour identifier les points bleus.  \n",
    "\n",
    "---\n",
    "\n",
    "3. **`plt.scatter(X_test, y_test, color='red', label='Données de test')`**  \n",
    "   - Affiche les **données de test** sous forme de nuage de points.  \n",
    "   - **`X_test`** : Valeurs du BMI dans le jeu de test.  \n",
    "   - **`y_test`** : Valeurs cibles associées.  \n",
    "   - **`color='red'`** : Les points sont affichés en rouge.  \n",
    "   - **`label='Données de test'`** : Ajoute une légende pour identifier les points rouges.  \n",
    "\n",
    "---\n",
    "\n",
    "4. **`plt.plot(X_test, y_pred, color='black', linewidth=2, label='Droite de régression')`**  \n",
    "   - Trace la **droite de régression linéaire** trouvée par le modèle.  \n",
    "   - **`X_test`** : Valeurs du BMI en entrée.  \n",
    "   - **`y_pred`** : Valeurs prédites par le modèle pour `X_test`.  \n",
    "   - **`color='black'`** : La droite est affichée en noir.  \n",
    "   - **`linewidth=2`** : Définit l'épaisseur de la ligne pour qu'elle soit bien visible.  \n",
    "   - **`label='Droite de régression'`** : Ajoute une légende pour la droite.  \n",
    "\n",
    "---\n",
    "\n",
    "5. **`plt.xlabel('Feature sélectionnée (Normalisée)')`**  \n",
    "   - Ajoute un label à l'axe des **X** pour indiquer la variable utilisée (`BMI`).  \n",
    "\n",
    "6. **`plt.ylabel('Progression de la maladie')`**  \n",
    "   - Ajoute un label à l'axe des **Y** pour indiquer la valeur prédite par le modèle.  \n",
    "\n",
    "7. **`plt.title('Régression Linéaire sur le dataset Diabetes')`**  \n",
    "   - Définit un titre pour le graphique.  \n",
    "\n",
    "8. **`plt.legend()`**  \n",
    "   - Affiche la légende pour identifier les différentes courbes et points du graphique.  \n",
    "\n",
    "9. **`plt.show()`**  \n",
    "   - Affiche le graphique.  \n",
    "\n",
    "---\n",
    "\n",
    "### **Interprétation du graphique :**\n",
    "- **Les points bleus** représentent les échantillons utilisés pour **entraîner le modèle**.  \n",
    "- **Les points rouges** sont les échantillons utilisés pour **tester la performance** du modèle.  \n",
    "- **La ligne noire** représente la **régression linéaire** :  \n",
    "  - Elle montre la relation linéaire trouvée entre le BMI et la progression de la maladie.  \n",
    "  - Si la ligne s’aligne bien avec les points rouges, le modèle est performant.  \n",
    "  - Si les points rouges sont très dispersés par rapport à la ligne, le modèle a des erreurs de prédiction.  \n",
    "\n",
    "---\n",
    "\n",
    "### **Pourquoi cette visualisation est importante ?**\n",
    "- Permet de **vérifier si la régression linéaire est pertinente**.  \n",
    "- Si les points sont alignés avec la droite, cela montre une **bonne corrélation** entre le BMI et la progression de la maladie.  \n",
    "- Si les points sont très dispersés, cela suggère que la relation n'est peut-être pas linéaire.  "
   ]
  },
  {
   "cell_type": "code",
   "id": "4fc98502",
   "metadata": {
    "ExecuteTime": {
     "end_time": "2025-02-19T16:58:22.663629Z",
     "start_time": "2025-02-19T16:58:22.567986Z"
    }
   },
   "source": [
    "plt.figure(figsize=(8, 6))\n",
    "plt.scatter(X_train, y_train, color='blue', label='Données d\\'entraînement')\n",
    "plt.scatter(X_test, y_test, color='red', label='Données de test')\n",
    "plt.plot(X_test, y_pred, color='black', linewidth=2, label='Droite de régression')\n",
    "plt.xlabel('Feature sélectionnée (Normalisée)')\n",
    "plt.ylabel('Progression de la maladie')\n",
    "plt.title('Régression Linéaire sur le dataset Diabetes')\n",
    "plt.legend()\n",
    "plt.show()"
   ],
   "outputs": [
    {
     "data": {
      "text/plain": [
       "<Figure size 800x600 with 1 Axes>"
      ],
      "image/png": "[encoded data removed]"
     },
     "metadata": {},
     "output_type": "display_data"
    }
   ],
   "execution_count": 34
  },
  {
   "cell_type": "code",
   "execution_count": null,
   "id": "ffd99e58",
   "metadata": {},
   "outputs": [],
   "source": []
  }
 ],
 "metadata": {
  "kernelspec": {
   "display_name": ".venv",
   "language": "python",
   "name": "python3"
  },
  "language_info": {
   "codemirror_mode": {
    "name": "ipython",
    "version": 3
   },
   "file_extension": ".py",
   "mimetype": "text/x-python",
   "name": "python",
   "nbconvert_exporter": "python",
   "pygments_lexer": "ipython3",
   "version": "3.12.7"
  }
 },
 "nbformat": 4,
 "nbformat_minor": 5
}
